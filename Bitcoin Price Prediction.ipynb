{
  "nbformat": 4,
  "nbformat_minor": 0,
  "metadata": {
    "colab": {
      "name": "B20CS005_BonusProject.ipynb",
      "provenance": []
    },
    "kernelspec": {
      "name": "python3",
      "display_name": "Python 3"
    },
    "language_info": {
      "name": "python"
    }
  },
  "cells": [
    {
      "cell_type": "markdown",
      "source": [
        "# <font color='black'>**Bitcoin Price Prediction (PRML Bonus Project)**</font>"
      ],
      "metadata": {
        "id": "dkz-_J0FdhhT"
      }
    },
    {
      "cell_type": "markdown",
      "source": [
        "#### Mounting Drive on Google Colab"
      ],
      "metadata": {
        "id": "ryEJKQnMdqH9"
      }
    },
    {
      "cell_type": "code",
      "source": [
        "from google.colab import drive\n",
        "drive.mount('/content/drive')"
      ],
      "metadata": {
        "colab": {
          "base_uri": "https://localhost:8080/"
        },
        "id": "mz7p8DfwzpFw",
        "outputId": "a3734c75-e088-4b1a-9aff-826b885ad54d"
      },
      "execution_count": 477,
      "outputs": [
        {
          "output_type": "stream",
          "name": "stdout",
          "text": [
            "Drive already mounted at /content/drive; to attempt to forcibly remount, call drive.mount(\"/content/drive\", force_remount=True).\n"
          ]
        }
      ]
    },
    {
      "cell_type": "markdown",
      "source": [
        "#### Importing Basic Libraries"
      ],
      "metadata": {
        "id": "xmOKDjl9dtjm"
      }
    },
    {
      "cell_type": "code",
      "metadata": {
        "id": "BOnhynIZKuGx"
      },
      "source": [
        "import numpy as np\n",
        "import pandas as pd\n",
        "import seaborn as sns\n",
        "import matplotlib.pyplot as plt"
      ],
      "execution_count": 478,
      "outputs": []
    },
    {
      "cell_type": "markdown",
      "source": [
        "#### Reading the dataset"
      ],
      "metadata": {
        "id": "7P6DBF4gdxgF"
      }
    },
    {
      "cell_type": "code",
      "source": [
        "data = pd.read_csv('/content/drive/MyDrive/bitcoin_price_bitcoin_price.2013Apr-2017Aug.csv', parse_dates=['Date'], index_col = ['Date'])\n",
        "data"
      ],
      "metadata": {
        "colab": {
          "base_uri": "https://localhost:8080/",
          "height": 455
        },
        "id": "8VdZQ0Rfzz7A",
        "outputId": "fd7f7442-c4e0-4ea5-ea9d-70c58a7d691a"
      },
      "execution_count": 479,
      "outputs": [
        {
          "output_type": "execute_result",
          "data": {
            "text/plain": [
              "               Open     High      Low    Close         Volume      Market Cap\n",
              "Date                                                                         \n",
              "2017-07-31  2763.24  2889.62  2720.61  2875.34    860,575,000  45,535,800,000\n",
              "2017-07-30  2724.39  2758.53  2644.85  2757.18    705,943,000  44,890,700,000\n",
              "2017-07-29  2807.02  2808.76  2692.80  2726.45    803,746,000  46,246,700,000\n",
              "2017-07-28  2679.73  2897.45  2679.73  2809.01  1,380,100,000  44,144,400,000\n",
              "2017-07-27  2538.71  2693.32  2529.34  2671.78    789,104,000  41,816,500,000\n",
              "...             ...      ...      ...      ...            ...             ...\n",
              "2013-05-02   116.38   125.60    92.28   105.21              -   1,292,190,000\n",
              "2013-05-01   139.00   139.89   107.72   116.99              -   1,542,820,000\n",
              "2013-04-30   144.00   146.93   134.05   139.00              -   1,597,780,000\n",
              "2013-04-29   134.44   147.49   134.00   144.54              -   1,491,160,000\n",
              "2013-04-28   135.30   135.98   132.10   134.21              -   1,500,520,000\n",
              "\n",
              "[1556 rows x 6 columns]"
            ],
            "text/html": [
              "\n",
              "  <div id=\"df-633a5508-d5a5-4755-afa4-bd34e10560a5\">\n",
              "    <div class=\"colab-df-container\">\n",
              "      <div>\n",
              "<style scoped>\n",
              "    .dataframe tbody tr th:only-of-type {\n",
              "        vertical-align: middle;\n",
              "    }\n",
              "\n",
              "    .dataframe tbody tr th {\n",
              "        vertical-align: top;\n",
              "    }\n",
              "\n",
              "    .dataframe thead th {\n",
              "        text-align: right;\n",
              "    }\n",
              "</style>\n",
              "<table border=\"1\" class=\"dataframe\">\n",
              "  <thead>\n",
              "    <tr style=\"text-align: right;\">\n",
              "      <th></th>\n",
              "      <th>Open</th>\n",
              "      <th>High</th>\n",
              "      <th>Low</th>\n",
              "      <th>Close</th>\n",
              "      <th>Volume</th>\n",
              "      <th>Market Cap</th>\n",
              "    </tr>\n",
              "    <tr>\n",
              "      <th>Date</th>\n",
              "      <th></th>\n",
              "      <th></th>\n",
              "      <th></th>\n",
              "      <th></th>\n",
              "      <th></th>\n",
              "      <th></th>\n",
              "    </tr>\n",
              "  </thead>\n",
              "  <tbody>\n",
              "    <tr>\n",
              "      <th>2017-07-31</th>\n",
              "      <td>2763.24</td>\n",
              "      <td>2889.62</td>\n",
              "      <td>2720.61</td>\n",
              "      <td>2875.34</td>\n",
              "      <td>860,575,000</td>\n",
              "      <td>45,535,800,000</td>\n",
              "    </tr>\n",
              "    <tr>\n",
              "      <th>2017-07-30</th>\n",
              "      <td>2724.39</td>\n",
              "      <td>2758.53</td>\n",
              "      <td>2644.85</td>\n",
              "      <td>2757.18</td>\n",
              "      <td>705,943,000</td>\n",
              "      <td>44,890,700,000</td>\n",
              "    </tr>\n",
              "    <tr>\n",
              "      <th>2017-07-29</th>\n",
              "      <td>2807.02</td>\n",
              "      <td>2808.76</td>\n",
              "      <td>2692.80</td>\n",
              "      <td>2726.45</td>\n",
              "      <td>803,746,000</td>\n",
              "      <td>46,246,700,000</td>\n",
              "    </tr>\n",
              "    <tr>\n",
              "      <th>2017-07-28</th>\n",
              "      <td>2679.73</td>\n",
              "      <td>2897.45</td>\n",
              "      <td>2679.73</td>\n",
              "      <td>2809.01</td>\n",
              "      <td>1,380,100,000</td>\n",
              "      <td>44,144,400,000</td>\n",
              "    </tr>\n",
              "    <tr>\n",
              "      <th>2017-07-27</th>\n",
              "      <td>2538.71</td>\n",
              "      <td>2693.32</td>\n",
              "      <td>2529.34</td>\n",
              "      <td>2671.78</td>\n",
              "      <td>789,104,000</td>\n",
              "      <td>41,816,500,000</td>\n",
              "    </tr>\n",
              "    <tr>\n",
              "      <th>...</th>\n",
              "      <td>...</td>\n",
              "      <td>...</td>\n",
              "      <td>...</td>\n",
              "      <td>...</td>\n",
              "      <td>...</td>\n",
              "      <td>...</td>\n",
              "    </tr>\n",
              "    <tr>\n",
              "      <th>2013-05-02</th>\n",
              "      <td>116.38</td>\n",
              "      <td>125.60</td>\n",
              "      <td>92.28</td>\n",
              "      <td>105.21</td>\n",
              "      <td>-</td>\n",
              "      <td>1,292,190,000</td>\n",
              "    </tr>\n",
              "    <tr>\n",
              "      <th>2013-05-01</th>\n",
              "      <td>139.00</td>\n",
              "      <td>139.89</td>\n",
              "      <td>107.72</td>\n",
              "      <td>116.99</td>\n",
              "      <td>-</td>\n",
              "      <td>1,542,820,000</td>\n",
              "    </tr>\n",
              "    <tr>\n",
              "      <th>2013-04-30</th>\n",
              "      <td>144.00</td>\n",
              "      <td>146.93</td>\n",
              "      <td>134.05</td>\n",
              "      <td>139.00</td>\n",
              "      <td>-</td>\n",
              "      <td>1,597,780,000</td>\n",
              "    </tr>\n",
              "    <tr>\n",
              "      <th>2013-04-29</th>\n",
              "      <td>134.44</td>\n",
              "      <td>147.49</td>\n",
              "      <td>134.00</td>\n",
              "      <td>144.54</td>\n",
              "      <td>-</td>\n",
              "      <td>1,491,160,000</td>\n",
              "    </tr>\n",
              "    <tr>\n",
              "      <th>2013-04-28</th>\n",
              "      <td>135.30</td>\n",
              "      <td>135.98</td>\n",
              "      <td>132.10</td>\n",
              "      <td>134.21</td>\n",
              "      <td>-</td>\n",
              "      <td>1,500,520,000</td>\n",
              "    </tr>\n",
              "  </tbody>\n",
              "</table>\n",
              "<p>1556 rows × 6 columns</p>\n",
              "</div>\n",
              "      <button class=\"colab-df-convert\" onclick=\"convertToInteractive('df-633a5508-d5a5-4755-afa4-bd34e10560a5')\"\n",
              "              title=\"Convert this dataframe to an interactive table.\"\n",
              "              style=\"display:none;\">\n",
              "        \n",
              "  <svg xmlns=\"http://www.w3.org/2000/svg\" height=\"24px\"viewBox=\"0 0 24 24\"\n",
              "       width=\"24px\">\n",
              "    <path d=\"M0 0h24v24H0V0z\" fill=\"none\"/>\n",
              "    <path d=\"M18.56 5.44l.94 2.06.94-2.06 2.06-.94-2.06-.94-.94-2.06-.94 2.06-2.06.94zm-11 1L8.5 8.5l.94-2.06 2.06-.94-2.06-.94L8.5 2.5l-.94 2.06-2.06.94zm10 10l.94 2.06.94-2.06 2.06-.94-2.06-.94-.94-2.06-.94 2.06-2.06.94z\"/><path d=\"M17.41 7.96l-1.37-1.37c-.4-.4-.92-.59-1.43-.59-.52 0-1.04.2-1.43.59L10.3 9.45l-7.72 7.72c-.78.78-.78 2.05 0 2.83L4 21.41c.39.39.9.59 1.41.59.51 0 1.02-.2 1.41-.59l7.78-7.78 2.81-2.81c.8-.78.8-2.07 0-2.86zM5.41 20L4 18.59l7.72-7.72 1.47 1.35L5.41 20z\"/>\n",
              "  </svg>\n",
              "      </button>\n",
              "      \n",
              "  <style>\n",
              "    .colab-df-container {\n",
              "      display:flex;\n",
              "      flex-wrap:wrap;\n",
              "      gap: 12px;\n",
              "    }\n",
              "\n",
              "    .colab-df-convert {\n",
              "      background-color: #E8F0FE;\n",
              "      border: none;\n",
              "      border-radius: 50%;\n",
              "      cursor: pointer;\n",
              "      display: none;\n",
              "      fill: #1967D2;\n",
              "      height: 32px;\n",
              "      padding: 0 0 0 0;\n",
              "      width: 32px;\n",
              "    }\n",
              "\n",
              "    .colab-df-convert:hover {\n",
              "      background-color: #E2EBFA;\n",
              "      box-shadow: 0px 1px 2px rgba(60, 64, 67, 0.3), 0px 1px 3px 1px rgba(60, 64, 67, 0.15);\n",
              "      fill: #174EA6;\n",
              "    }\n",
              "\n",
              "    [theme=dark] .colab-df-convert {\n",
              "      background-color: #3B4455;\n",
              "      fill: #D2E3FC;\n",
              "    }\n",
              "\n",
              "    [theme=dark] .colab-df-convert:hover {\n",
              "      background-color: #434B5C;\n",
              "      box-shadow: 0px 1px 3px 1px rgba(0, 0, 0, 0.15);\n",
              "      filter: drop-shadow(0px 1px 2px rgba(0, 0, 0, 0.3));\n",
              "      fill: #FFFFFF;\n",
              "    }\n",
              "  </style>\n",
              "\n",
              "      <script>\n",
              "        const buttonEl =\n",
              "          document.querySelector('#df-633a5508-d5a5-4755-afa4-bd34e10560a5 button.colab-df-convert');\n",
              "        buttonEl.style.display =\n",
              "          google.colab.kernel.accessAllowed ? 'block' : 'none';\n",
              "\n",
              "        async function convertToInteractive(key) {\n",
              "          const element = document.querySelector('#df-633a5508-d5a5-4755-afa4-bd34e10560a5');\n",
              "          const dataTable =\n",
              "            await google.colab.kernel.invokeFunction('convertToInteractive',\n",
              "                                                     [key], {});\n",
              "          if (!dataTable) return;\n",
              "\n",
              "          const docLinkHtml = 'Like what you see? Visit the ' +\n",
              "            '<a target=\"_blank\" href=https://colab.research.google.com/notebooks/data_table.ipynb>data table notebook</a>'\n",
              "            + ' to learn more about interactive tables.';\n",
              "          element.innerHTML = '';\n",
              "          dataTable['output_type'] = 'display_data';\n",
              "          await google.colab.output.renderOutput(dataTable, element);\n",
              "          const docLink = document.createElement('div');\n",
              "          docLink.innerHTML = docLinkHtml;\n",
              "          element.appendChild(docLink);\n",
              "        }\n",
              "      </script>\n",
              "    </div>\n",
              "  </div>\n",
              "  "
            ]
          },
          "metadata": {},
          "execution_count": 479
        }
      ]
    },
    {
      "cell_type": "markdown",
      "source": [
        "#### Preprocessing and Visualization of the dataset"
      ],
      "metadata": {
        "id": "kaU-ovTXd-n5"
      }
    },
    {
      "cell_type": "code",
      "metadata": {
        "colab": {
          "base_uri": "https://localhost:8080/"
        },
        "id": "0hUamYxOMaZP",
        "outputId": "953cb366-da3a-40d7-fc76-87b903161ce2"
      },
      "source": [
        "data.head"
      ],
      "execution_count": 480,
      "outputs": [
        {
          "output_type": "execute_result",
          "data": {
            "text/plain": [
              "<bound method NDFrame.head of                Open     High      Low    Close         Volume      Market Cap\n",
              "Date                                                                         \n",
              "2017-07-31  2763.24  2889.62  2720.61  2875.34    860,575,000  45,535,800,000\n",
              "2017-07-30  2724.39  2758.53  2644.85  2757.18    705,943,000  44,890,700,000\n",
              "2017-07-29  2807.02  2808.76  2692.80  2726.45    803,746,000  46,246,700,000\n",
              "2017-07-28  2679.73  2897.45  2679.73  2809.01  1,380,100,000  44,144,400,000\n",
              "2017-07-27  2538.71  2693.32  2529.34  2671.78    789,104,000  41,816,500,000\n",
              "...             ...      ...      ...      ...            ...             ...\n",
              "2013-05-02   116.38   125.60    92.28   105.21              -   1,292,190,000\n",
              "2013-05-01   139.00   139.89   107.72   116.99              -   1,542,820,000\n",
              "2013-04-30   144.00   146.93   134.05   139.00              -   1,597,780,000\n",
              "2013-04-29   134.44   147.49   134.00   144.54              -   1,491,160,000\n",
              "2013-04-28   135.30   135.98   132.10   134.21              -   1,500,520,000\n",
              "\n",
              "[1556 rows x 6 columns]>"
            ]
          },
          "metadata": {},
          "execution_count": 480
        }
      ]
    },
    {
      "cell_type": "code",
      "source": [
        "data.head()"
      ],
      "metadata": {
        "colab": {
          "base_uri": "https://localhost:8080/",
          "height": 238
        },
        "id": "3gQOM9pR4fAg",
        "outputId": "9c14e84f-11e5-4b0e-8b0f-9aafb763f52f"
      },
      "execution_count": 481,
      "outputs": [
        {
          "output_type": "execute_result",
          "data": {
            "text/plain": [
              "               Open     High      Low    Close         Volume      Market Cap\n",
              "Date                                                                         \n",
              "2017-07-31  2763.24  2889.62  2720.61  2875.34    860,575,000  45,535,800,000\n",
              "2017-07-30  2724.39  2758.53  2644.85  2757.18    705,943,000  44,890,700,000\n",
              "2017-07-29  2807.02  2808.76  2692.80  2726.45    803,746,000  46,246,700,000\n",
              "2017-07-28  2679.73  2897.45  2679.73  2809.01  1,380,100,000  44,144,400,000\n",
              "2017-07-27  2538.71  2693.32  2529.34  2671.78    789,104,000  41,816,500,000"
            ],
            "text/html": [
              "\n",
              "  <div id=\"df-b66e5b7d-50bc-4b23-9265-c268ec4d91d5\">\n",
              "    <div class=\"colab-df-container\">\n",
              "      <div>\n",
              "<style scoped>\n",
              "    .dataframe tbody tr th:only-of-type {\n",
              "        vertical-align: middle;\n",
              "    }\n",
              "\n",
              "    .dataframe tbody tr th {\n",
              "        vertical-align: top;\n",
              "    }\n",
              "\n",
              "    .dataframe thead th {\n",
              "        text-align: right;\n",
              "    }\n",
              "</style>\n",
              "<table border=\"1\" class=\"dataframe\">\n",
              "  <thead>\n",
              "    <tr style=\"text-align: right;\">\n",
              "      <th></th>\n",
              "      <th>Open</th>\n",
              "      <th>High</th>\n",
              "      <th>Low</th>\n",
              "      <th>Close</th>\n",
              "      <th>Volume</th>\n",
              "      <th>Market Cap</th>\n",
              "    </tr>\n",
              "    <tr>\n",
              "      <th>Date</th>\n",
              "      <th></th>\n",
              "      <th></th>\n",
              "      <th></th>\n",
              "      <th></th>\n",
              "      <th></th>\n",
              "      <th></th>\n",
              "    </tr>\n",
              "  </thead>\n",
              "  <tbody>\n",
              "    <tr>\n",
              "      <th>2017-07-31</th>\n",
              "      <td>2763.24</td>\n",
              "      <td>2889.62</td>\n",
              "      <td>2720.61</td>\n",
              "      <td>2875.34</td>\n",
              "      <td>860,575,000</td>\n",
              "      <td>45,535,800,000</td>\n",
              "    </tr>\n",
              "    <tr>\n",
              "      <th>2017-07-30</th>\n",
              "      <td>2724.39</td>\n",
              "      <td>2758.53</td>\n",
              "      <td>2644.85</td>\n",
              "      <td>2757.18</td>\n",
              "      <td>705,943,000</td>\n",
              "      <td>44,890,700,000</td>\n",
              "    </tr>\n",
              "    <tr>\n",
              "      <th>2017-07-29</th>\n",
              "      <td>2807.02</td>\n",
              "      <td>2808.76</td>\n",
              "      <td>2692.80</td>\n",
              "      <td>2726.45</td>\n",
              "      <td>803,746,000</td>\n",
              "      <td>46,246,700,000</td>\n",
              "    </tr>\n",
              "    <tr>\n",
              "      <th>2017-07-28</th>\n",
              "      <td>2679.73</td>\n",
              "      <td>2897.45</td>\n",
              "      <td>2679.73</td>\n",
              "      <td>2809.01</td>\n",
              "      <td>1,380,100,000</td>\n",
              "      <td>44,144,400,000</td>\n",
              "    </tr>\n",
              "    <tr>\n",
              "      <th>2017-07-27</th>\n",
              "      <td>2538.71</td>\n",
              "      <td>2693.32</td>\n",
              "      <td>2529.34</td>\n",
              "      <td>2671.78</td>\n",
              "      <td>789,104,000</td>\n",
              "      <td>41,816,500,000</td>\n",
              "    </tr>\n",
              "  </tbody>\n",
              "</table>\n",
              "</div>\n",
              "      <button class=\"colab-df-convert\" onclick=\"convertToInteractive('df-b66e5b7d-50bc-4b23-9265-c268ec4d91d5')\"\n",
              "              title=\"Convert this dataframe to an interactive table.\"\n",
              "              style=\"display:none;\">\n",
              "        \n",
              "  <svg xmlns=\"http://www.w3.org/2000/svg\" height=\"24px\"viewBox=\"0 0 24 24\"\n",
              "       width=\"24px\">\n",
              "    <path d=\"M0 0h24v24H0V0z\" fill=\"none\"/>\n",
              "    <path d=\"M18.56 5.44l.94 2.06.94-2.06 2.06-.94-2.06-.94-.94-2.06-.94 2.06-2.06.94zm-11 1L8.5 8.5l.94-2.06 2.06-.94-2.06-.94L8.5 2.5l-.94 2.06-2.06.94zm10 10l.94 2.06.94-2.06 2.06-.94-2.06-.94-.94-2.06-.94 2.06-2.06.94z\"/><path d=\"M17.41 7.96l-1.37-1.37c-.4-.4-.92-.59-1.43-.59-.52 0-1.04.2-1.43.59L10.3 9.45l-7.72 7.72c-.78.78-.78 2.05 0 2.83L4 21.41c.39.39.9.59 1.41.59.51 0 1.02-.2 1.41-.59l7.78-7.78 2.81-2.81c.8-.78.8-2.07 0-2.86zM5.41 20L4 18.59l7.72-7.72 1.47 1.35L5.41 20z\"/>\n",
              "  </svg>\n",
              "      </button>\n",
              "      \n",
              "  <style>\n",
              "    .colab-df-container {\n",
              "      display:flex;\n",
              "      flex-wrap:wrap;\n",
              "      gap: 12px;\n",
              "    }\n",
              "\n",
              "    .colab-df-convert {\n",
              "      background-color: #E8F0FE;\n",
              "      border: none;\n",
              "      border-radius: 50%;\n",
              "      cursor: pointer;\n",
              "      display: none;\n",
              "      fill: #1967D2;\n",
              "      height: 32px;\n",
              "      padding: 0 0 0 0;\n",
              "      width: 32px;\n",
              "    }\n",
              "\n",
              "    .colab-df-convert:hover {\n",
              "      background-color: #E2EBFA;\n",
              "      box-shadow: 0px 1px 2px rgba(60, 64, 67, 0.3), 0px 1px 3px 1px rgba(60, 64, 67, 0.15);\n",
              "      fill: #174EA6;\n",
              "    }\n",
              "\n",
              "    [theme=dark] .colab-df-convert {\n",
              "      background-color: #3B4455;\n",
              "      fill: #D2E3FC;\n",
              "    }\n",
              "\n",
              "    [theme=dark] .colab-df-convert:hover {\n",
              "      background-color: #434B5C;\n",
              "      box-shadow: 0px 1px 3px 1px rgba(0, 0, 0, 0.15);\n",
              "      filter: drop-shadow(0px 1px 2px rgba(0, 0, 0, 0.3));\n",
              "      fill: #FFFFFF;\n",
              "    }\n",
              "  </style>\n",
              "\n",
              "      <script>\n",
              "        const buttonEl =\n",
              "          document.querySelector('#df-b66e5b7d-50bc-4b23-9265-c268ec4d91d5 button.colab-df-convert');\n",
              "        buttonEl.style.display =\n",
              "          google.colab.kernel.accessAllowed ? 'block' : 'none';\n",
              "\n",
              "        async function convertToInteractive(key) {\n",
              "          const element = document.querySelector('#df-b66e5b7d-50bc-4b23-9265-c268ec4d91d5');\n",
              "          const dataTable =\n",
              "            await google.colab.kernel.invokeFunction('convertToInteractive',\n",
              "                                                     [key], {});\n",
              "          if (!dataTable) return;\n",
              "\n",
              "          const docLinkHtml = 'Like what you see? Visit the ' +\n",
              "            '<a target=\"_blank\" href=https://colab.research.google.com/notebooks/data_table.ipynb>data table notebook</a>'\n",
              "            + ' to learn more about interactive tables.';\n",
              "          element.innerHTML = '';\n",
              "          dataTable['output_type'] = 'display_data';\n",
              "          await google.colab.output.renderOutput(dataTable, element);\n",
              "          const docLink = document.createElement('div');\n",
              "          docLink.innerHTML = docLinkHtml;\n",
              "          element.appendChild(docLink);\n",
              "        }\n",
              "      </script>\n",
              "    </div>\n",
              "  </div>\n",
              "  "
            ]
          },
          "metadata": {},
          "execution_count": 481
        }
      ]
    },
    {
      "cell_type": "code",
      "source": [
        "data.tail()"
      ],
      "metadata": {
        "colab": {
          "base_uri": "https://localhost:8080/",
          "height": 238
        },
        "id": "xqAqSRbu5vTb",
        "outputId": "c2205550-a1b8-4a74-fb5f-544df9706a7e"
      },
      "execution_count": 482,
      "outputs": [
        {
          "output_type": "execute_result",
          "data": {
            "text/plain": [
              "              Open    High     Low   Close Volume     Market Cap\n",
              "Date                                                            \n",
              "2013-05-02  116.38  125.60   92.28  105.21      -  1,292,190,000\n",
              "2013-05-01  139.00  139.89  107.72  116.99      -  1,542,820,000\n",
              "2013-04-30  144.00  146.93  134.05  139.00      -  1,597,780,000\n",
              "2013-04-29  134.44  147.49  134.00  144.54      -  1,491,160,000\n",
              "2013-04-28  135.30  135.98  132.10  134.21      -  1,500,520,000"
            ],
            "text/html": [
              "\n",
              "  <div id=\"df-e6e57b7c-eb5f-4868-bc97-9e4f06ca626d\">\n",
              "    <div class=\"colab-df-container\">\n",
              "      <div>\n",
              "<style scoped>\n",
              "    .dataframe tbody tr th:only-of-type {\n",
              "        vertical-align: middle;\n",
              "    }\n",
              "\n",
              "    .dataframe tbody tr th {\n",
              "        vertical-align: top;\n",
              "    }\n",
              "\n",
              "    .dataframe thead th {\n",
              "        text-align: right;\n",
              "    }\n",
              "</style>\n",
              "<table border=\"1\" class=\"dataframe\">\n",
              "  <thead>\n",
              "    <tr style=\"text-align: right;\">\n",
              "      <th></th>\n",
              "      <th>Open</th>\n",
              "      <th>High</th>\n",
              "      <th>Low</th>\n",
              "      <th>Close</th>\n",
              "      <th>Volume</th>\n",
              "      <th>Market Cap</th>\n",
              "    </tr>\n",
              "    <tr>\n",
              "      <th>Date</th>\n",
              "      <th></th>\n",
              "      <th></th>\n",
              "      <th></th>\n",
              "      <th></th>\n",
              "      <th></th>\n",
              "      <th></th>\n",
              "    </tr>\n",
              "  </thead>\n",
              "  <tbody>\n",
              "    <tr>\n",
              "      <th>2013-05-02</th>\n",
              "      <td>116.38</td>\n",
              "      <td>125.60</td>\n",
              "      <td>92.28</td>\n",
              "      <td>105.21</td>\n",
              "      <td>-</td>\n",
              "      <td>1,292,190,000</td>\n",
              "    </tr>\n",
              "    <tr>\n",
              "      <th>2013-05-01</th>\n",
              "      <td>139.00</td>\n",
              "      <td>139.89</td>\n",
              "      <td>107.72</td>\n",
              "      <td>116.99</td>\n",
              "      <td>-</td>\n",
              "      <td>1,542,820,000</td>\n",
              "    </tr>\n",
              "    <tr>\n",
              "      <th>2013-04-30</th>\n",
              "      <td>144.00</td>\n",
              "      <td>146.93</td>\n",
              "      <td>134.05</td>\n",
              "      <td>139.00</td>\n",
              "      <td>-</td>\n",
              "      <td>1,597,780,000</td>\n",
              "    </tr>\n",
              "    <tr>\n",
              "      <th>2013-04-29</th>\n",
              "      <td>134.44</td>\n",
              "      <td>147.49</td>\n",
              "      <td>134.00</td>\n",
              "      <td>144.54</td>\n",
              "      <td>-</td>\n",
              "      <td>1,491,160,000</td>\n",
              "    </tr>\n",
              "    <tr>\n",
              "      <th>2013-04-28</th>\n",
              "      <td>135.30</td>\n",
              "      <td>135.98</td>\n",
              "      <td>132.10</td>\n",
              "      <td>134.21</td>\n",
              "      <td>-</td>\n",
              "      <td>1,500,520,000</td>\n",
              "    </tr>\n",
              "  </tbody>\n",
              "</table>\n",
              "</div>\n",
              "      <button class=\"colab-df-convert\" onclick=\"convertToInteractive('df-e6e57b7c-eb5f-4868-bc97-9e4f06ca626d')\"\n",
              "              title=\"Convert this dataframe to an interactive table.\"\n",
              "              style=\"display:none;\">\n",
              "        \n",
              "  <svg xmlns=\"http://www.w3.org/2000/svg\" height=\"24px\"viewBox=\"0 0 24 24\"\n",
              "       width=\"24px\">\n",
              "    <path d=\"M0 0h24v24H0V0z\" fill=\"none\"/>\n",
              "    <path d=\"M18.56 5.44l.94 2.06.94-2.06 2.06-.94-2.06-.94-.94-2.06-.94 2.06-2.06.94zm-11 1L8.5 8.5l.94-2.06 2.06-.94-2.06-.94L8.5 2.5l-.94 2.06-2.06.94zm10 10l.94 2.06.94-2.06 2.06-.94-2.06-.94-.94-2.06-.94 2.06-2.06.94z\"/><path d=\"M17.41 7.96l-1.37-1.37c-.4-.4-.92-.59-1.43-.59-.52 0-1.04.2-1.43.59L10.3 9.45l-7.72 7.72c-.78.78-.78 2.05 0 2.83L4 21.41c.39.39.9.59 1.41.59.51 0 1.02-.2 1.41-.59l7.78-7.78 2.81-2.81c.8-.78.8-2.07 0-2.86zM5.41 20L4 18.59l7.72-7.72 1.47 1.35L5.41 20z\"/>\n",
              "  </svg>\n",
              "      </button>\n",
              "      \n",
              "  <style>\n",
              "    .colab-df-container {\n",
              "      display:flex;\n",
              "      flex-wrap:wrap;\n",
              "      gap: 12px;\n",
              "    }\n",
              "\n",
              "    .colab-df-convert {\n",
              "      background-color: #E8F0FE;\n",
              "      border: none;\n",
              "      border-radius: 50%;\n",
              "      cursor: pointer;\n",
              "      display: none;\n",
              "      fill: #1967D2;\n",
              "      height: 32px;\n",
              "      padding: 0 0 0 0;\n",
              "      width: 32px;\n",
              "    }\n",
              "\n",
              "    .colab-df-convert:hover {\n",
              "      background-color: #E2EBFA;\n",
              "      box-shadow: 0px 1px 2px rgba(60, 64, 67, 0.3), 0px 1px 3px 1px rgba(60, 64, 67, 0.15);\n",
              "      fill: #174EA6;\n",
              "    }\n",
              "\n",
              "    [theme=dark] .colab-df-convert {\n",
              "      background-color: #3B4455;\n",
              "      fill: #D2E3FC;\n",
              "    }\n",
              "\n",
              "    [theme=dark] .colab-df-convert:hover {\n",
              "      background-color: #434B5C;\n",
              "      box-shadow: 0px 1px 3px 1px rgba(0, 0, 0, 0.15);\n",
              "      filter: drop-shadow(0px 1px 2px rgba(0, 0, 0, 0.3));\n",
              "      fill: #FFFFFF;\n",
              "    }\n",
              "  </style>\n",
              "\n",
              "      <script>\n",
              "        const buttonEl =\n",
              "          document.querySelector('#df-e6e57b7c-eb5f-4868-bc97-9e4f06ca626d button.colab-df-convert');\n",
              "        buttonEl.style.display =\n",
              "          google.colab.kernel.accessAllowed ? 'block' : 'none';\n",
              "\n",
              "        async function convertToInteractive(key) {\n",
              "          const element = document.querySelector('#df-e6e57b7c-eb5f-4868-bc97-9e4f06ca626d');\n",
              "          const dataTable =\n",
              "            await google.colab.kernel.invokeFunction('convertToInteractive',\n",
              "                                                     [key], {});\n",
              "          if (!dataTable) return;\n",
              "\n",
              "          const docLinkHtml = 'Like what you see? Visit the ' +\n",
              "            '<a target=\"_blank\" href=https://colab.research.google.com/notebooks/data_table.ipynb>data table notebook</a>'\n",
              "            + ' to learn more about interactive tables.';\n",
              "          element.innerHTML = '';\n",
              "          dataTable['output_type'] = 'display_data';\n",
              "          await google.colab.output.renderOutput(dataTable, element);\n",
              "          const docLink = document.createElement('div');\n",
              "          docLink.innerHTML = docLinkHtml;\n",
              "          element.appendChild(docLink);\n",
              "        }\n",
              "      </script>\n",
              "    </div>\n",
              "  </div>\n",
              "  "
            ]
          },
          "metadata": {},
          "execution_count": 482
        }
      ]
    },
    {
      "cell_type": "code",
      "metadata": {
        "colab": {
          "base_uri": "https://localhost:8080/"
        },
        "id": "B4Xd5f3tMfdx",
        "outputId": "f6a7a51e-6a67-4d48-93da-1c2207ff0114"
      },
      "source": [
        "data.info()"
      ],
      "execution_count": 483,
      "outputs": [
        {
          "output_type": "stream",
          "name": "stdout",
          "text": [
            "<class 'pandas.core.frame.DataFrame'>\n",
            "DatetimeIndex: 1556 entries, 2017-07-31 to 2013-04-28\n",
            "Data columns (total 6 columns):\n",
            " #   Column      Non-Null Count  Dtype  \n",
            "---  ------      --------------  -----  \n",
            " 0   Open        1556 non-null   float64\n",
            " 1   High        1556 non-null   float64\n",
            " 2   Low         1556 non-null   float64\n",
            " 3   Close       1556 non-null   float64\n",
            " 4   Volume      1556 non-null   object \n",
            " 5   Market Cap  1556 non-null   object \n",
            "dtypes: float64(4), object(2)\n",
            "memory usage: 85.1+ KB\n"
          ]
        }
      ]
    },
    {
      "cell_type": "code",
      "source": [
        "data.corr()['Close']"
      ],
      "metadata": {
        "colab": {
          "base_uri": "https://localhost:8080/"
        },
        "id": "4MfignNt_3la",
        "outputId": "031d7249-dc0d-4ee8-812e-53c76c6eb658"
      },
      "execution_count": 484,
      "outputs": [
        {
          "output_type": "execute_result",
          "data": {
            "text/plain": [
              "Open     0.997514\n",
              "High     0.998596\n",
              "Low      0.998755\n",
              "Close    1.000000\n",
              "Name: Close, dtype: float64"
            ]
          },
          "metadata": {},
          "execution_count": 484
        }
      ]
    },
    {
      "cell_type": "code",
      "source": [
        "data.drop(['Volume', 'Market Cap'], axis = 1, inplace = True) # dropping the unnecessary features"
      ],
      "metadata": {
        "id": "J0J9n3uC5z6m"
      },
      "execution_count": 485,
      "outputs": []
    },
    {
      "cell_type": "code",
      "source": [
        "data"
      ],
      "metadata": {
        "colab": {
          "base_uri": "https://localhost:8080/",
          "height": 455
        },
        "id": "DLU44abz6Km9",
        "outputId": "bac0f2b2-2633-469c-f3a1-60723d616ace"
      },
      "execution_count": 486,
      "outputs": [
        {
          "output_type": "execute_result",
          "data": {
            "text/plain": [
              "               Open     High      Low    Close\n",
              "Date                                          \n",
              "2017-07-31  2763.24  2889.62  2720.61  2875.34\n",
              "2017-07-30  2724.39  2758.53  2644.85  2757.18\n",
              "2017-07-29  2807.02  2808.76  2692.80  2726.45\n",
              "2017-07-28  2679.73  2897.45  2679.73  2809.01\n",
              "2017-07-27  2538.71  2693.32  2529.34  2671.78\n",
              "...             ...      ...      ...      ...\n",
              "2013-05-02   116.38   125.60    92.28   105.21\n",
              "2013-05-01   139.00   139.89   107.72   116.99\n",
              "2013-04-30   144.00   146.93   134.05   139.00\n",
              "2013-04-29   134.44   147.49   134.00   144.54\n",
              "2013-04-28   135.30   135.98   132.10   134.21\n",
              "\n",
              "[1556 rows x 4 columns]"
            ],
            "text/html": [
              "\n",
              "  <div id=\"df-96934dcd-f91d-4a7d-92d0-720a725dfcfa\">\n",
              "    <div class=\"colab-df-container\">\n",
              "      <div>\n",
              "<style scoped>\n",
              "    .dataframe tbody tr th:only-of-type {\n",
              "        vertical-align: middle;\n",
              "    }\n",
              "\n",
              "    .dataframe tbody tr th {\n",
              "        vertical-align: top;\n",
              "    }\n",
              "\n",
              "    .dataframe thead th {\n",
              "        text-align: right;\n",
              "    }\n",
              "</style>\n",
              "<table border=\"1\" class=\"dataframe\">\n",
              "  <thead>\n",
              "    <tr style=\"text-align: right;\">\n",
              "      <th></th>\n",
              "      <th>Open</th>\n",
              "      <th>High</th>\n",
              "      <th>Low</th>\n",
              "      <th>Close</th>\n",
              "    </tr>\n",
              "    <tr>\n",
              "      <th>Date</th>\n",
              "      <th></th>\n",
              "      <th></th>\n",
              "      <th></th>\n",
              "      <th></th>\n",
              "    </tr>\n",
              "  </thead>\n",
              "  <tbody>\n",
              "    <tr>\n",
              "      <th>2017-07-31</th>\n",
              "      <td>2763.24</td>\n",
              "      <td>2889.62</td>\n",
              "      <td>2720.61</td>\n",
              "      <td>2875.34</td>\n",
              "    </tr>\n",
              "    <tr>\n",
              "      <th>2017-07-30</th>\n",
              "      <td>2724.39</td>\n",
              "      <td>2758.53</td>\n",
              "      <td>2644.85</td>\n",
              "      <td>2757.18</td>\n",
              "    </tr>\n",
              "    <tr>\n",
              "      <th>2017-07-29</th>\n",
              "      <td>2807.02</td>\n",
              "      <td>2808.76</td>\n",
              "      <td>2692.80</td>\n",
              "      <td>2726.45</td>\n",
              "    </tr>\n",
              "    <tr>\n",
              "      <th>2017-07-28</th>\n",
              "      <td>2679.73</td>\n",
              "      <td>2897.45</td>\n",
              "      <td>2679.73</td>\n",
              "      <td>2809.01</td>\n",
              "    </tr>\n",
              "    <tr>\n",
              "      <th>2017-07-27</th>\n",
              "      <td>2538.71</td>\n",
              "      <td>2693.32</td>\n",
              "      <td>2529.34</td>\n",
              "      <td>2671.78</td>\n",
              "    </tr>\n",
              "    <tr>\n",
              "      <th>...</th>\n",
              "      <td>...</td>\n",
              "      <td>...</td>\n",
              "      <td>...</td>\n",
              "      <td>...</td>\n",
              "    </tr>\n",
              "    <tr>\n",
              "      <th>2013-05-02</th>\n",
              "      <td>116.38</td>\n",
              "      <td>125.60</td>\n",
              "      <td>92.28</td>\n",
              "      <td>105.21</td>\n",
              "    </tr>\n",
              "    <tr>\n",
              "      <th>2013-05-01</th>\n",
              "      <td>139.00</td>\n",
              "      <td>139.89</td>\n",
              "      <td>107.72</td>\n",
              "      <td>116.99</td>\n",
              "    </tr>\n",
              "    <tr>\n",
              "      <th>2013-04-30</th>\n",
              "      <td>144.00</td>\n",
              "      <td>146.93</td>\n",
              "      <td>134.05</td>\n",
              "      <td>139.00</td>\n",
              "    </tr>\n",
              "    <tr>\n",
              "      <th>2013-04-29</th>\n",
              "      <td>134.44</td>\n",
              "      <td>147.49</td>\n",
              "      <td>134.00</td>\n",
              "      <td>144.54</td>\n",
              "    </tr>\n",
              "    <tr>\n",
              "      <th>2013-04-28</th>\n",
              "      <td>135.30</td>\n",
              "      <td>135.98</td>\n",
              "      <td>132.10</td>\n",
              "      <td>134.21</td>\n",
              "    </tr>\n",
              "  </tbody>\n",
              "</table>\n",
              "<p>1556 rows × 4 columns</p>\n",
              "</div>\n",
              "      <button class=\"colab-df-convert\" onclick=\"convertToInteractive('df-96934dcd-f91d-4a7d-92d0-720a725dfcfa')\"\n",
              "              title=\"Convert this dataframe to an interactive table.\"\n",
              "              style=\"display:none;\">\n",
              "        \n",
              "  <svg xmlns=\"http://www.w3.org/2000/svg\" height=\"24px\"viewBox=\"0 0 24 24\"\n",
              "       width=\"24px\">\n",
              "    <path d=\"M0 0h24v24H0V0z\" fill=\"none\"/>\n",
              "    <path d=\"M18.56 5.44l.94 2.06.94-2.06 2.06-.94-2.06-.94-.94-2.06-.94 2.06-2.06.94zm-11 1L8.5 8.5l.94-2.06 2.06-.94-2.06-.94L8.5 2.5l-.94 2.06-2.06.94zm10 10l.94 2.06.94-2.06 2.06-.94-2.06-.94-.94-2.06-.94 2.06-2.06.94z\"/><path d=\"M17.41 7.96l-1.37-1.37c-.4-.4-.92-.59-1.43-.59-.52 0-1.04.2-1.43.59L10.3 9.45l-7.72 7.72c-.78.78-.78 2.05 0 2.83L4 21.41c.39.39.9.59 1.41.59.51 0 1.02-.2 1.41-.59l7.78-7.78 2.81-2.81c.8-.78.8-2.07 0-2.86zM5.41 20L4 18.59l7.72-7.72 1.47 1.35L5.41 20z\"/>\n",
              "  </svg>\n",
              "      </button>\n",
              "      \n",
              "  <style>\n",
              "    .colab-df-container {\n",
              "      display:flex;\n",
              "      flex-wrap:wrap;\n",
              "      gap: 12px;\n",
              "    }\n",
              "\n",
              "    .colab-df-convert {\n",
              "      background-color: #E8F0FE;\n",
              "      border: none;\n",
              "      border-radius: 50%;\n",
              "      cursor: pointer;\n",
              "      display: none;\n",
              "      fill: #1967D2;\n",
              "      height: 32px;\n",
              "      padding: 0 0 0 0;\n",
              "      width: 32px;\n",
              "    }\n",
              "\n",
              "    .colab-df-convert:hover {\n",
              "      background-color: #E2EBFA;\n",
              "      box-shadow: 0px 1px 2px rgba(60, 64, 67, 0.3), 0px 1px 3px 1px rgba(60, 64, 67, 0.15);\n",
              "      fill: #174EA6;\n",
              "    }\n",
              "\n",
              "    [theme=dark] .colab-df-convert {\n",
              "      background-color: #3B4455;\n",
              "      fill: #D2E3FC;\n",
              "    }\n",
              "\n",
              "    [theme=dark] .colab-df-convert:hover {\n",
              "      background-color: #434B5C;\n",
              "      box-shadow: 0px 1px 3px 1px rgba(0, 0, 0, 0.15);\n",
              "      filter: drop-shadow(0px 1px 2px rgba(0, 0, 0, 0.3));\n",
              "      fill: #FFFFFF;\n",
              "    }\n",
              "  </style>\n",
              "\n",
              "      <script>\n",
              "        const buttonEl =\n",
              "          document.querySelector('#df-96934dcd-f91d-4a7d-92d0-720a725dfcfa button.colab-df-convert');\n",
              "        buttonEl.style.display =\n",
              "          google.colab.kernel.accessAllowed ? 'block' : 'none';\n",
              "\n",
              "        async function convertToInteractive(key) {\n",
              "          const element = document.querySelector('#df-96934dcd-f91d-4a7d-92d0-720a725dfcfa');\n",
              "          const dataTable =\n",
              "            await google.colab.kernel.invokeFunction('convertToInteractive',\n",
              "                                                     [key], {});\n",
              "          if (!dataTable) return;\n",
              "\n",
              "          const docLinkHtml = 'Like what you see? Visit the ' +\n",
              "            '<a target=\"_blank\" href=https://colab.research.google.com/notebooks/data_table.ipynb>data table notebook</a>'\n",
              "            + ' to learn more about interactive tables.';\n",
              "          element.innerHTML = '';\n",
              "          dataTable['output_type'] = 'display_data';\n",
              "          await google.colab.output.renderOutput(dataTable, element);\n",
              "          const docLink = document.createElement('div');\n",
              "          docLink.innerHTML = docLinkHtml;\n",
              "          element.appendChild(docLink);\n",
              "        }\n",
              "      </script>\n",
              "    </div>\n",
              "  </div>\n",
              "  "
            ]
          },
          "metadata": {},
          "execution_count": 486
        }
      ]
    },
    {
      "cell_type": "code",
      "metadata": {
        "colab": {
          "base_uri": "https://localhost:8080/",
          "height": 455
        },
        "id": "rr9geyuOMjmz",
        "outputId": "0aa27fc6-bd70-4074-b4cb-5e24a809ade3"
      },
      "source": [
        "data.isnull() # checking if any value in the dataset is null"
      ],
      "execution_count": 487,
      "outputs": [
        {
          "output_type": "execute_result",
          "data": {
            "text/plain": [
              "             Open   High    Low  Close\n",
              "Date                                  \n",
              "2017-07-31  False  False  False  False\n",
              "2017-07-30  False  False  False  False\n",
              "2017-07-29  False  False  False  False\n",
              "2017-07-28  False  False  False  False\n",
              "2017-07-27  False  False  False  False\n",
              "...           ...    ...    ...    ...\n",
              "2013-05-02  False  False  False  False\n",
              "2013-05-01  False  False  False  False\n",
              "2013-04-30  False  False  False  False\n",
              "2013-04-29  False  False  False  False\n",
              "2013-04-28  False  False  False  False\n",
              "\n",
              "[1556 rows x 4 columns]"
            ],
            "text/html": [
              "\n",
              "  <div id=\"df-b8fd3e58-192e-4df1-9c66-39efacc76561\">\n",
              "    <div class=\"colab-df-container\">\n",
              "      <div>\n",
              "<style scoped>\n",
              "    .dataframe tbody tr th:only-of-type {\n",
              "        vertical-align: middle;\n",
              "    }\n",
              "\n",
              "    .dataframe tbody tr th {\n",
              "        vertical-align: top;\n",
              "    }\n",
              "\n",
              "    .dataframe thead th {\n",
              "        text-align: right;\n",
              "    }\n",
              "</style>\n",
              "<table border=\"1\" class=\"dataframe\">\n",
              "  <thead>\n",
              "    <tr style=\"text-align: right;\">\n",
              "      <th></th>\n",
              "      <th>Open</th>\n",
              "      <th>High</th>\n",
              "      <th>Low</th>\n",
              "      <th>Close</th>\n",
              "    </tr>\n",
              "    <tr>\n",
              "      <th>Date</th>\n",
              "      <th></th>\n",
              "      <th></th>\n",
              "      <th></th>\n",
              "      <th></th>\n",
              "    </tr>\n",
              "  </thead>\n",
              "  <tbody>\n",
              "    <tr>\n",
              "      <th>2017-07-31</th>\n",
              "      <td>False</td>\n",
              "      <td>False</td>\n",
              "      <td>False</td>\n",
              "      <td>False</td>\n",
              "    </tr>\n",
              "    <tr>\n",
              "      <th>2017-07-30</th>\n",
              "      <td>False</td>\n",
              "      <td>False</td>\n",
              "      <td>False</td>\n",
              "      <td>False</td>\n",
              "    </tr>\n",
              "    <tr>\n",
              "      <th>2017-07-29</th>\n",
              "      <td>False</td>\n",
              "      <td>False</td>\n",
              "      <td>False</td>\n",
              "      <td>False</td>\n",
              "    </tr>\n",
              "    <tr>\n",
              "      <th>2017-07-28</th>\n",
              "      <td>False</td>\n",
              "      <td>False</td>\n",
              "      <td>False</td>\n",
              "      <td>False</td>\n",
              "    </tr>\n",
              "    <tr>\n",
              "      <th>2017-07-27</th>\n",
              "      <td>False</td>\n",
              "      <td>False</td>\n",
              "      <td>False</td>\n",
              "      <td>False</td>\n",
              "    </tr>\n",
              "    <tr>\n",
              "      <th>...</th>\n",
              "      <td>...</td>\n",
              "      <td>...</td>\n",
              "      <td>...</td>\n",
              "      <td>...</td>\n",
              "    </tr>\n",
              "    <tr>\n",
              "      <th>2013-05-02</th>\n",
              "      <td>False</td>\n",
              "      <td>False</td>\n",
              "      <td>False</td>\n",
              "      <td>False</td>\n",
              "    </tr>\n",
              "    <tr>\n",
              "      <th>2013-05-01</th>\n",
              "      <td>False</td>\n",
              "      <td>False</td>\n",
              "      <td>False</td>\n",
              "      <td>False</td>\n",
              "    </tr>\n",
              "    <tr>\n",
              "      <th>2013-04-30</th>\n",
              "      <td>False</td>\n",
              "      <td>False</td>\n",
              "      <td>False</td>\n",
              "      <td>False</td>\n",
              "    </tr>\n",
              "    <tr>\n",
              "      <th>2013-04-29</th>\n",
              "      <td>False</td>\n",
              "      <td>False</td>\n",
              "      <td>False</td>\n",
              "      <td>False</td>\n",
              "    </tr>\n",
              "    <tr>\n",
              "      <th>2013-04-28</th>\n",
              "      <td>False</td>\n",
              "      <td>False</td>\n",
              "      <td>False</td>\n",
              "      <td>False</td>\n",
              "    </tr>\n",
              "  </tbody>\n",
              "</table>\n",
              "<p>1556 rows × 4 columns</p>\n",
              "</div>\n",
              "      <button class=\"colab-df-convert\" onclick=\"convertToInteractive('df-b8fd3e58-192e-4df1-9c66-39efacc76561')\"\n",
              "              title=\"Convert this dataframe to an interactive table.\"\n",
              "              style=\"display:none;\">\n",
              "        \n",
              "  <svg xmlns=\"http://www.w3.org/2000/svg\" height=\"24px\"viewBox=\"0 0 24 24\"\n",
              "       width=\"24px\">\n",
              "    <path d=\"M0 0h24v24H0V0z\" fill=\"none\"/>\n",
              "    <path d=\"M18.56 5.44l.94 2.06.94-2.06 2.06-.94-2.06-.94-.94-2.06-.94 2.06-2.06.94zm-11 1L8.5 8.5l.94-2.06 2.06-.94-2.06-.94L8.5 2.5l-.94 2.06-2.06.94zm10 10l.94 2.06.94-2.06 2.06-.94-2.06-.94-.94-2.06-.94 2.06-2.06.94z\"/><path d=\"M17.41 7.96l-1.37-1.37c-.4-.4-.92-.59-1.43-.59-.52 0-1.04.2-1.43.59L10.3 9.45l-7.72 7.72c-.78.78-.78 2.05 0 2.83L4 21.41c.39.39.9.59 1.41.59.51 0 1.02-.2 1.41-.59l7.78-7.78 2.81-2.81c.8-.78.8-2.07 0-2.86zM5.41 20L4 18.59l7.72-7.72 1.47 1.35L5.41 20z\"/>\n",
              "  </svg>\n",
              "      </button>\n",
              "      \n",
              "  <style>\n",
              "    .colab-df-container {\n",
              "      display:flex;\n",
              "      flex-wrap:wrap;\n",
              "      gap: 12px;\n",
              "    }\n",
              "\n",
              "    .colab-df-convert {\n",
              "      background-color: #E8F0FE;\n",
              "      border: none;\n",
              "      border-radius: 50%;\n",
              "      cursor: pointer;\n",
              "      display: none;\n",
              "      fill: #1967D2;\n",
              "      height: 32px;\n",
              "      padding: 0 0 0 0;\n",
              "      width: 32px;\n",
              "    }\n",
              "\n",
              "    .colab-df-convert:hover {\n",
              "      background-color: #E2EBFA;\n",
              "      box-shadow: 0px 1px 2px rgba(60, 64, 67, 0.3), 0px 1px 3px 1px rgba(60, 64, 67, 0.15);\n",
              "      fill: #174EA6;\n",
              "    }\n",
              "\n",
              "    [theme=dark] .colab-df-convert {\n",
              "      background-color: #3B4455;\n",
              "      fill: #D2E3FC;\n",
              "    }\n",
              "\n",
              "    [theme=dark] .colab-df-convert:hover {\n",
              "      background-color: #434B5C;\n",
              "      box-shadow: 0px 1px 3px 1px rgba(0, 0, 0, 0.15);\n",
              "      filter: drop-shadow(0px 1px 2px rgba(0, 0, 0, 0.3));\n",
              "      fill: #FFFFFF;\n",
              "    }\n",
              "  </style>\n",
              "\n",
              "      <script>\n",
              "        const buttonEl =\n",
              "          document.querySelector('#df-b8fd3e58-192e-4df1-9c66-39efacc76561 button.colab-df-convert');\n",
              "        buttonEl.style.display =\n",
              "          google.colab.kernel.accessAllowed ? 'block' : 'none';\n",
              "\n",
              "        async function convertToInteractive(key) {\n",
              "          const element = document.querySelector('#df-b8fd3e58-192e-4df1-9c66-39efacc76561');\n",
              "          const dataTable =\n",
              "            await google.colab.kernel.invokeFunction('convertToInteractive',\n",
              "                                                     [key], {});\n",
              "          if (!dataTable) return;\n",
              "\n",
              "          const docLinkHtml = 'Like what you see? Visit the ' +\n",
              "            '<a target=\"_blank\" href=https://colab.research.google.com/notebooks/data_table.ipynb>data table notebook</a>'\n",
              "            + ' to learn more about interactive tables.';\n",
              "          element.innerHTML = '';\n",
              "          dataTable['output_type'] = 'display_data';\n",
              "          await google.colab.output.renderOutput(dataTable, element);\n",
              "          const docLink = document.createElement('div');\n",
              "          docLink.innerHTML = docLinkHtml;\n",
              "          element.appendChild(docLink);\n",
              "        }\n",
              "      </script>\n",
              "    </div>\n",
              "  </div>\n",
              "  "
            ]
          },
          "metadata": {},
          "execution_count": 487
        }
      ]
    },
    {
      "cell_type": "code",
      "metadata": {
        "colab": {
          "base_uri": "https://localhost:8080/"
        },
        "id": "Y3bL2k6cMocI",
        "outputId": "c0196f34-e076-4ce3-9f68-ed28b758f6c6"
      },
      "source": [
        "data.duplicated().sum # checking if there is any null value on any date"
      ],
      "execution_count": 488,
      "outputs": [
        {
          "output_type": "execute_result",
          "data": {
            "text/plain": [
              "<bound method NDFrame._add_numeric_operations.<locals>.sum of Date\n",
              "2017-07-31    False\n",
              "2017-07-30    False\n",
              "2017-07-29    False\n",
              "2017-07-28    False\n",
              "2017-07-27    False\n",
              "              ...  \n",
              "2013-05-02    False\n",
              "2013-05-01    False\n",
              "2013-04-30    False\n",
              "2013-04-29    False\n",
              "2013-04-28    False\n",
              "Length: 1556, dtype: bool>"
            ]
          },
          "metadata": {},
          "execution_count": 488
        }
      ]
    },
    {
      "cell_type": "code",
      "source": [
        "data.isnull().sum() # number of null values of every feature"
      ],
      "metadata": {
        "colab": {
          "base_uri": "https://localhost:8080/"
        },
        "id": "3VW7BX530Jfm",
        "outputId": "accfe1d2-0ad9-4e6c-b4f9-ef50f12f1711"
      },
      "execution_count": 489,
      "outputs": [
        {
          "output_type": "execute_result",
          "data": {
            "text/plain": [
              "Open     0\n",
              "High     0\n",
              "Low      0\n",
              "Close    0\n",
              "dtype: int64"
            ]
          },
          "metadata": {},
          "execution_count": 489
        }
      ]
    },
    {
      "cell_type": "code",
      "source": [
        "data.isnull().any() # rechecking if there are any null values in any feature"
      ],
      "metadata": {
        "colab": {
          "base_uri": "https://localhost:8080/"
        },
        "id": "NnQuvK8g6UYO",
        "outputId": "e7dabcf3-91af-4eb1-a6bc-df744a0ba6e6"
      },
      "execution_count": 490,
      "outputs": [
        {
          "output_type": "execute_result",
          "data": {
            "text/plain": [
              "Open     False\n",
              "High     False\n",
              "Low      False\n",
              "Close    False\n",
              "dtype: bool"
            ]
          },
          "metadata": {},
          "execution_count": 490
        }
      ]
    },
    {
      "cell_type": "code",
      "source": [
        "data.shape # shape of the dataset"
      ],
      "metadata": {
        "colab": {
          "base_uri": "https://localhost:8080/"
        },
        "id": "aSGyyeRz0Otm",
        "outputId": "6b0b82c2-4f50-4c6e-ce2f-d0c346e67e52"
      },
      "execution_count": 491,
      "outputs": [
        {
          "output_type": "execute_result",
          "data": {
            "text/plain": [
              "(1556, 4)"
            ]
          },
          "metadata": {},
          "execution_count": 491
        }
      ]
    },
    {
      "cell_type": "code",
      "metadata": {
        "colab": {
          "base_uri": "https://localhost:8080/",
          "height": 238
        },
        "id": "lDvyIht-Oo4C",
        "outputId": "d7f4638b-d927-4c36-b972-2cf999481c1e"
      },
      "source": [
        "data.head() # top 5 rows of the dataset"
      ],
      "execution_count": 492,
      "outputs": [
        {
          "output_type": "execute_result",
          "data": {
            "text/plain": [
              "               Open     High      Low    Close\n",
              "Date                                          \n",
              "2017-07-31  2763.24  2889.62  2720.61  2875.34\n",
              "2017-07-30  2724.39  2758.53  2644.85  2757.18\n",
              "2017-07-29  2807.02  2808.76  2692.80  2726.45\n",
              "2017-07-28  2679.73  2897.45  2679.73  2809.01\n",
              "2017-07-27  2538.71  2693.32  2529.34  2671.78"
            ],
            "text/html": [
              "\n",
              "  <div id=\"df-93d65155-ab37-46f3-a1c3-1c4edd69c713\">\n",
              "    <div class=\"colab-df-container\">\n",
              "      <div>\n",
              "<style scoped>\n",
              "    .dataframe tbody tr th:only-of-type {\n",
              "        vertical-align: middle;\n",
              "    }\n",
              "\n",
              "    .dataframe tbody tr th {\n",
              "        vertical-align: top;\n",
              "    }\n",
              "\n",
              "    .dataframe thead th {\n",
              "        text-align: right;\n",
              "    }\n",
              "</style>\n",
              "<table border=\"1\" class=\"dataframe\">\n",
              "  <thead>\n",
              "    <tr style=\"text-align: right;\">\n",
              "      <th></th>\n",
              "      <th>Open</th>\n",
              "      <th>High</th>\n",
              "      <th>Low</th>\n",
              "      <th>Close</th>\n",
              "    </tr>\n",
              "    <tr>\n",
              "      <th>Date</th>\n",
              "      <th></th>\n",
              "      <th></th>\n",
              "      <th></th>\n",
              "      <th></th>\n",
              "    </tr>\n",
              "  </thead>\n",
              "  <tbody>\n",
              "    <tr>\n",
              "      <th>2017-07-31</th>\n",
              "      <td>2763.24</td>\n",
              "      <td>2889.62</td>\n",
              "      <td>2720.61</td>\n",
              "      <td>2875.34</td>\n",
              "    </tr>\n",
              "    <tr>\n",
              "      <th>2017-07-30</th>\n",
              "      <td>2724.39</td>\n",
              "      <td>2758.53</td>\n",
              "      <td>2644.85</td>\n",
              "      <td>2757.18</td>\n",
              "    </tr>\n",
              "    <tr>\n",
              "      <th>2017-07-29</th>\n",
              "      <td>2807.02</td>\n",
              "      <td>2808.76</td>\n",
              "      <td>2692.80</td>\n",
              "      <td>2726.45</td>\n",
              "    </tr>\n",
              "    <tr>\n",
              "      <th>2017-07-28</th>\n",
              "      <td>2679.73</td>\n",
              "      <td>2897.45</td>\n",
              "      <td>2679.73</td>\n",
              "      <td>2809.01</td>\n",
              "    </tr>\n",
              "    <tr>\n",
              "      <th>2017-07-27</th>\n",
              "      <td>2538.71</td>\n",
              "      <td>2693.32</td>\n",
              "      <td>2529.34</td>\n",
              "      <td>2671.78</td>\n",
              "    </tr>\n",
              "  </tbody>\n",
              "</table>\n",
              "</div>\n",
              "      <button class=\"colab-df-convert\" onclick=\"convertToInteractive('df-93d65155-ab37-46f3-a1c3-1c4edd69c713')\"\n",
              "              title=\"Convert this dataframe to an interactive table.\"\n",
              "              style=\"display:none;\">\n",
              "        \n",
              "  <svg xmlns=\"http://www.w3.org/2000/svg\" height=\"24px\"viewBox=\"0 0 24 24\"\n",
              "       width=\"24px\">\n",
              "    <path d=\"M0 0h24v24H0V0z\" fill=\"none\"/>\n",
              "    <path d=\"M18.56 5.44l.94 2.06.94-2.06 2.06-.94-2.06-.94-.94-2.06-.94 2.06-2.06.94zm-11 1L8.5 8.5l.94-2.06 2.06-.94-2.06-.94L8.5 2.5l-.94 2.06-2.06.94zm10 10l.94 2.06.94-2.06 2.06-.94-2.06-.94-.94-2.06-.94 2.06-2.06.94z\"/><path d=\"M17.41 7.96l-1.37-1.37c-.4-.4-.92-.59-1.43-.59-.52 0-1.04.2-1.43.59L10.3 9.45l-7.72 7.72c-.78.78-.78 2.05 0 2.83L4 21.41c.39.39.9.59 1.41.59.51 0 1.02-.2 1.41-.59l7.78-7.78 2.81-2.81c.8-.78.8-2.07 0-2.86zM5.41 20L4 18.59l7.72-7.72 1.47 1.35L5.41 20z\"/>\n",
              "  </svg>\n",
              "      </button>\n",
              "      \n",
              "  <style>\n",
              "    .colab-df-container {\n",
              "      display:flex;\n",
              "      flex-wrap:wrap;\n",
              "      gap: 12px;\n",
              "    }\n",
              "\n",
              "    .colab-df-convert {\n",
              "      background-color: #E8F0FE;\n",
              "      border: none;\n",
              "      border-radius: 50%;\n",
              "      cursor: pointer;\n",
              "      display: none;\n",
              "      fill: #1967D2;\n",
              "      height: 32px;\n",
              "      padding: 0 0 0 0;\n",
              "      width: 32px;\n",
              "    }\n",
              "\n",
              "    .colab-df-convert:hover {\n",
              "      background-color: #E2EBFA;\n",
              "      box-shadow: 0px 1px 2px rgba(60, 64, 67, 0.3), 0px 1px 3px 1px rgba(60, 64, 67, 0.15);\n",
              "      fill: #174EA6;\n",
              "    }\n",
              "\n",
              "    [theme=dark] .colab-df-convert {\n",
              "      background-color: #3B4455;\n",
              "      fill: #D2E3FC;\n",
              "    }\n",
              "\n",
              "    [theme=dark] .colab-df-convert:hover {\n",
              "      background-color: #434B5C;\n",
              "      box-shadow: 0px 1px 3px 1px rgba(0, 0, 0, 0.15);\n",
              "      filter: drop-shadow(0px 1px 2px rgba(0, 0, 0, 0.3));\n",
              "      fill: #FFFFFF;\n",
              "    }\n",
              "  </style>\n",
              "\n",
              "      <script>\n",
              "        const buttonEl =\n",
              "          document.querySelector('#df-93d65155-ab37-46f3-a1c3-1c4edd69c713 button.colab-df-convert');\n",
              "        buttonEl.style.display =\n",
              "          google.colab.kernel.accessAllowed ? 'block' : 'none';\n",
              "\n",
              "        async function convertToInteractive(key) {\n",
              "          const element = document.querySelector('#df-93d65155-ab37-46f3-a1c3-1c4edd69c713');\n",
              "          const dataTable =\n",
              "            await google.colab.kernel.invokeFunction('convertToInteractive',\n",
              "                                                     [key], {});\n",
              "          if (!dataTable) return;\n",
              "\n",
              "          const docLinkHtml = 'Like what you see? Visit the ' +\n",
              "            '<a target=\"_blank\" href=https://colab.research.google.com/notebooks/data_table.ipynb>data table notebook</a>'\n",
              "            + ' to learn more about interactive tables.';\n",
              "          element.innerHTML = '';\n",
              "          dataTable['output_type'] = 'display_data';\n",
              "          await google.colab.output.renderOutput(dataTable, element);\n",
              "          const docLink = document.createElement('div');\n",
              "          docLink.innerHTML = docLinkHtml;\n",
              "          element.appendChild(docLink);\n",
              "        }\n",
              "      </script>\n",
              "    </div>\n",
              "  </div>\n",
              "  "
            ]
          },
          "metadata": {},
          "execution_count": 492
        }
      ]
    },
    {
      "cell_type": "code",
      "source": [
        "import seaborn as sns\n",
        "sns.set()\n",
        "sns.set_style('whitegrid')\n",
        "data['Close'].plot(figsize=(12,6),label='Close')\n",
        "data['Close'].rolling(window=10).mean().plot(label='10 Day Avg')\n",
        "# Plotting the rolling 10 day average against the Close Price\n",
        "plt.legend()"
      ],
      "metadata": {
        "colab": {
          "base_uri": "https://localhost:8080/",
          "height": 411
        },
        "id": "DdXD6VAz9cRX",
        "outputId": "e21a78ce-6af9-41d9-acfc-41b419d20e34"
      },
      "execution_count": 493,
      "outputs": [
        {
          "output_type": "execute_result",
          "data": {
            "text/plain": [
              "<matplotlib.legend.Legend at 0x7fbe26dc0250>"
            ]
          },
          "metadata": {},
          "execution_count": 493
        },
        {
          "output_type": "display_data",
          "data": {
            "text/plain": [
              "<Figure size 864x432 with 1 Axes>"
            ],
            "image/png": "[encoded data removed]"
          },
          "metadata": {}
        }
      ]
    },
    {
      "cell_type": "code",
      "source": [
        "# adding a new feature in the dataset which contains the average of other 4 feature values, so that we get better accuracy\n",
        "data['AvgDayPrice'] = (data['Close'] + data['High'] + data['Low'] + data['Open'])/4"
      ],
      "metadata": {
        "id": "ZLCpEQdsEowE"
      },
      "execution_count": 494,
      "outputs": []
    },
    {
      "cell_type": "code",
      "source": [
        "data"
      ],
      "metadata": {
        "colab": {
          "base_uri": "https://localhost:8080/",
          "height": 455
        },
        "id": "4IWRHB3ME5B4",
        "outputId": "e6259718-b248-4071-f465-197c5508e094"
      },
      "execution_count": 495,
      "outputs": [
        {
          "output_type": "execute_result",
          "data": {
            "text/plain": [
              "               Open     High      Low    Close  AvgDayPrice\n",
              "Date                                                       \n",
              "2017-07-31  2763.24  2889.62  2720.61  2875.34    2812.2025\n",
              "2017-07-30  2724.39  2758.53  2644.85  2757.18    2721.2375\n",
              "2017-07-29  2807.02  2808.76  2692.80  2726.45    2758.7575\n",
              "2017-07-28  2679.73  2897.45  2679.73  2809.01    2766.4800\n",
              "2017-07-27  2538.71  2693.32  2529.34  2671.78    2608.2875\n",
              "...             ...      ...      ...      ...          ...\n",
              "2013-05-02   116.38   125.60    92.28   105.21     109.8675\n",
              "2013-05-01   139.00   139.89   107.72   116.99     125.9000\n",
              "2013-04-30   144.00   146.93   134.05   139.00     140.9950\n",
              "2013-04-29   134.44   147.49   134.00   144.54     140.1175\n",
              "2013-04-28   135.30   135.98   132.10   134.21     134.3975\n",
              "\n",
              "[1556 rows x 5 columns]"
            ],
            "text/html": [
              "\n",
              "  <div id=\"df-cb82e676-4cd7-497b-b705-dfb9ce8732e6\">\n",
              "    <div class=\"colab-df-container\">\n",
              "      <div>\n",
              "<style scoped>\n",
              "    .dataframe tbody tr th:only-of-type {\n",
              "        vertical-align: middle;\n",
              "    }\n",
              "\n",
              "    .dataframe tbody tr th {\n",
              "        vertical-align: top;\n",
              "    }\n",
              "\n",
              "    .dataframe thead th {\n",
              "        text-align: right;\n",
              "    }\n",
              "</style>\n",
              "<table border=\"1\" class=\"dataframe\">\n",
              "  <thead>\n",
              "    <tr style=\"text-align: right;\">\n",
              "      <th></th>\n",
              "      <th>Open</th>\n",
              "      <th>High</th>\n",
              "      <th>Low</th>\n",
              "      <th>Close</th>\n",
              "      <th>AvgDayPrice</th>\n",
              "    </tr>\n",
              "    <tr>\n",
              "      <th>Date</th>\n",
              "      <th></th>\n",
              "      <th></th>\n",
              "      <th></th>\n",
              "      <th></th>\n",
              "      <th></th>\n",
              "    </tr>\n",
              "  </thead>\n",
              "  <tbody>\n",
              "    <tr>\n",
              "      <th>2017-07-31</th>\n",
              "      <td>2763.24</td>\n",
              "      <td>2889.62</td>\n",
              "      <td>2720.61</td>\n",
              "      <td>2875.34</td>\n",
              "      <td>2812.2025</td>\n",
              "    </tr>\n",
              "    <tr>\n",
              "      <th>2017-07-30</th>\n",
              "      <td>2724.39</td>\n",
              "      <td>2758.53</td>\n",
              "      <td>2644.85</td>\n",
              "      <td>2757.18</td>\n",
              "      <td>2721.2375</td>\n",
              "    </tr>\n",
              "    <tr>\n",
              "      <th>2017-07-29</th>\n",
              "      <td>2807.02</td>\n",
              "      <td>2808.76</td>\n",
              "      <td>2692.80</td>\n",
              "      <td>2726.45</td>\n",
              "      <td>2758.7575</td>\n",
              "    </tr>\n",
              "    <tr>\n",
              "      <th>2017-07-28</th>\n",
              "      <td>2679.73</td>\n",
              "      <td>2897.45</td>\n",
              "      <td>2679.73</td>\n",
              "      <td>2809.01</td>\n",
              "      <td>2766.4800</td>\n",
              "    </tr>\n",
              "    <tr>\n",
              "      <th>2017-07-27</th>\n",
              "      <td>2538.71</td>\n",
              "      <td>2693.32</td>\n",
              "      <td>2529.34</td>\n",
              "      <td>2671.78</td>\n",
              "      <td>2608.2875</td>\n",
              "    </tr>\n",
              "    <tr>\n",
              "      <th>...</th>\n",
              "      <td>...</td>\n",
              "      <td>...</td>\n",
              "      <td>...</td>\n",
              "      <td>...</td>\n",
              "      <td>...</td>\n",
              "    </tr>\n",
              "    <tr>\n",
              "      <th>2013-05-02</th>\n",
              "      <td>116.38</td>\n",
              "      <td>125.60</td>\n",
              "      <td>92.28</td>\n",
              "      <td>105.21</td>\n",
              "      <td>109.8675</td>\n",
              "    </tr>\n",
              "    <tr>\n",
              "      <th>2013-05-01</th>\n",
              "      <td>139.00</td>\n",
              "      <td>139.89</td>\n",
              "      <td>107.72</td>\n",
              "      <td>116.99</td>\n",
              "      <td>125.9000</td>\n",
              "    </tr>\n",
              "    <tr>\n",
              "      <th>2013-04-30</th>\n",
              "      <td>144.00</td>\n",
              "      <td>146.93</td>\n",
              "      <td>134.05</td>\n",
              "      <td>139.00</td>\n",
              "      <td>140.9950</td>\n",
              "    </tr>\n",
              "    <tr>\n",
              "      <th>2013-04-29</th>\n",
              "      <td>134.44</td>\n",
              "      <td>147.49</td>\n",
              "      <td>134.00</td>\n",
              "      <td>144.54</td>\n",
              "      <td>140.1175</td>\n",
              "    </tr>\n",
              "    <tr>\n",
              "      <th>2013-04-28</th>\n",
              "      <td>135.30</td>\n",
              "      <td>135.98</td>\n",
              "      <td>132.10</td>\n",
              "      <td>134.21</td>\n",
              "      <td>134.3975</td>\n",
              "    </tr>\n",
              "  </tbody>\n",
              "</table>\n",
              "<p>1556 rows × 5 columns</p>\n",
              "</div>\n",
              "      <button class=\"colab-df-convert\" onclick=\"convertToInteractive('df-cb82e676-4cd7-497b-b705-dfb9ce8732e6')\"\n",
              "              title=\"Convert this dataframe to an interactive table.\"\n",
              "              style=\"display:none;\">\n",
              "        \n",
              "  <svg xmlns=\"http://www.w3.org/2000/svg\" height=\"24px\"viewBox=\"0 0 24 24\"\n",
              "       width=\"24px\">\n",
              "    <path d=\"M0 0h24v24H0V0z\" fill=\"none\"/>\n",
              "    <path d=\"M18.56 5.44l.94 2.06.94-2.06 2.06-.94-2.06-.94-.94-2.06-.94 2.06-2.06.94zm-11 1L8.5 8.5l.94-2.06 2.06-.94-2.06-.94L8.5 2.5l-.94 2.06-2.06.94zm10 10l.94 2.06.94-2.06 2.06-.94-2.06-.94-.94-2.06-.94 2.06-2.06.94z\"/><path d=\"M17.41 7.96l-1.37-1.37c-.4-.4-.92-.59-1.43-.59-.52 0-1.04.2-1.43.59L10.3 9.45l-7.72 7.72c-.78.78-.78 2.05 0 2.83L4 21.41c.39.39.9.59 1.41.59.51 0 1.02-.2 1.41-.59l7.78-7.78 2.81-2.81c.8-.78.8-2.07 0-2.86zM5.41 20L4 18.59l7.72-7.72 1.47 1.35L5.41 20z\"/>\n",
              "  </svg>\n",
              "      </button>\n",
              "      \n",
              "  <style>\n",
              "    .colab-df-container {\n",
              "      display:flex;\n",
              "      flex-wrap:wrap;\n",
              "      gap: 12px;\n",
              "    }\n",
              "\n",
              "    .colab-df-convert {\n",
              "      background-color: #E8F0FE;\n",
              "      border: none;\n",
              "      border-radius: 50%;\n",
              "      cursor: pointer;\n",
              "      display: none;\n",
              "      fill: #1967D2;\n",
              "      height: 32px;\n",
              "      padding: 0 0 0 0;\n",
              "      width: 32px;\n",
              "    }\n",
              "\n",
              "    .colab-df-convert:hover {\n",
              "      background-color: #E2EBFA;\n",
              "      box-shadow: 0px 1px 2px rgba(60, 64, 67, 0.3), 0px 1px 3px 1px rgba(60, 64, 67, 0.15);\n",
              "      fill: #174EA6;\n",
              "    }\n",
              "\n",
              "    [theme=dark] .colab-df-convert {\n",
              "      background-color: #3B4455;\n",
              "      fill: #D2E3FC;\n",
              "    }\n",
              "\n",
              "    [theme=dark] .colab-df-convert:hover {\n",
              "      background-color: #434B5C;\n",
              "      box-shadow: 0px 1px 3px 1px rgba(0, 0, 0, 0.15);\n",
              "      filter: drop-shadow(0px 1px 2px rgba(0, 0, 0, 0.3));\n",
              "      fill: #FFFFFF;\n",
              "    }\n",
              "  </style>\n",
              "\n",
              "      <script>\n",
              "        const buttonEl =\n",
              "          document.querySelector('#df-cb82e676-4cd7-497b-b705-dfb9ce8732e6 button.colab-df-convert');\n",
              "        buttonEl.style.display =\n",
              "          google.colab.kernel.accessAllowed ? 'block' : 'none';\n",
              "\n",
              "        async function convertToInteractive(key) {\n",
              "          const element = document.querySelector('#df-cb82e676-4cd7-497b-b705-dfb9ce8732e6');\n",
              "          const dataTable =\n",
              "            await google.colab.kernel.invokeFunction('convertToInteractive',\n",
              "                                                     [key], {});\n",
              "          if (!dataTable) return;\n",
              "\n",
              "          const docLinkHtml = 'Like what you see? Visit the ' +\n",
              "            '<a target=\"_blank\" href=https://colab.research.google.com/notebooks/data_table.ipynb>data table notebook</a>'\n",
              "            + ' to learn more about interactive tables.';\n",
              "          element.innerHTML = '';\n",
              "          dataTable['output_type'] = 'display_data';\n",
              "          await google.colab.output.renderOutput(dataTable, element);\n",
              "          const docLink = document.createElement('div');\n",
              "          docLink.innerHTML = docLinkHtml;\n",
              "          element.appendChild(docLink);\n",
              "        }\n",
              "      </script>\n",
              "    </div>\n",
              "  </div>\n",
              "  "
            ]
          },
          "metadata": {},
          "execution_count": 495
        }
      ]
    },
    {
      "cell_type": "code",
      "source": [
        "# adding a feature which contains price of bitcoin after 10 days (target feature)\n",
        "data['ClosingPriceAfter10days'] = data['Close'].shift(10)"
      ],
      "metadata": {
        "id": "v3mI2PuoE7Qy"
      },
      "execution_count": 496,
      "outputs": []
    },
    {
      "cell_type": "code",
      "source": [
        "data # we have some null values now because we don't have the data of bitcoin price after 31st july 2017"
      ],
      "metadata": {
        "colab": {
          "base_uri": "https://localhost:8080/",
          "height": 455
        },
        "id": "PB3b5RUaFOAY",
        "outputId": "e0c096dc-ac4d-4a1d-8ac1-fde1a6a5307c"
      },
      "execution_count": 497,
      "outputs": [
        {
          "output_type": "execute_result",
          "data": {
            "text/plain": [
              "               Open     High      Low    Close  AvgDayPrice  \\\n",
              "Date                                                          \n",
              "2017-07-31  2763.24  2889.62  2720.61  2875.34    2812.2025   \n",
              "2017-07-30  2724.39  2758.53  2644.85  2757.18    2721.2375   \n",
              "2017-07-29  2807.02  2808.76  2692.80  2726.45    2758.7575   \n",
              "2017-07-28  2679.73  2897.45  2679.73  2809.01    2766.4800   \n",
              "2017-07-27  2538.71  2693.32  2529.34  2671.78    2608.2875   \n",
              "...             ...      ...      ...      ...          ...   \n",
              "2013-05-02   116.38   125.60    92.28   105.21     109.8675   \n",
              "2013-05-01   139.00   139.89   107.72   116.99     125.9000   \n",
              "2013-04-30   144.00   146.93   134.05   139.00     140.9950   \n",
              "2013-04-29   134.44   147.49   134.00   144.54     140.1175   \n",
              "2013-04-28   135.30   135.98   132.10   134.21     134.3975   \n",
              "\n",
              "            ClosingPriceAfter10days  \n",
              "Date                                 \n",
              "2017-07-31                      NaN  \n",
              "2017-07-30                      NaN  \n",
              "2017-07-29                      NaN  \n",
              "2017-07-28                      NaN  \n",
              "2017-07-27                      NaN  \n",
              "...                             ...  \n",
              "2013-05-02                   115.00  \n",
              "2013-05-01                   115.24  \n",
              "2013-04-30                   117.20  \n",
              "2013-04-29                   112.67  \n",
              "2013-04-28                   113.57  \n",
              "\n",
              "[1556 rows x 6 columns]"
            ],
            "text/html": [
              "\n",
              "  <div id=\"df-e66c5104-e9e9-447a-91fb-3fbccce723a7\">\n",
              "    <div class=\"colab-df-container\">\n",
              "      <div>\n",
              "<style scoped>\n",
              "    .dataframe tbody tr th:only-of-type {\n",
              "        vertical-align: middle;\n",
              "    }\n",
              "\n",
              "    .dataframe tbody tr th {\n",
              "        vertical-align: top;\n",
              "    }\n",
              "\n",
              "    .dataframe thead th {\n",
              "        text-align: right;\n",
              "    }\n",
              "</style>\n",
              "<table border=\"1\" class=\"dataframe\">\n",
              "  <thead>\n",
              "    <tr style=\"text-align: right;\">\n",
              "      <th></th>\n",
              "      <th>Open</th>\n",
              "      <th>High</th>\n",
              "      <th>Low</th>\n",
              "      <th>Close</th>\n",
              "      <th>AvgDayPrice</th>\n",
              "      <th>ClosingPriceAfter10days</th>\n",
              "    </tr>\n",
              "    <tr>\n",
              "      <th>Date</th>\n",
              "      <th></th>\n",
              "      <th></th>\n",
              "      <th></th>\n",
              "      <th></th>\n",
              "      <th></th>\n",
              "      <th></th>\n",
              "    </tr>\n",
              "  </thead>\n",
              "  <tbody>\n",
              "    <tr>\n",
              "      <th>2017-07-31</th>\n",
              "      <td>2763.24</td>\n",
              "      <td>2889.62</td>\n",
              "      <td>2720.61</td>\n",
              "      <td>2875.34</td>\n",
              "      <td>2812.2025</td>\n",
              "      <td>NaN</td>\n",
              "    </tr>\n",
              "    <tr>\n",
              "      <th>2017-07-30</th>\n",
              "      <td>2724.39</td>\n",
              "      <td>2758.53</td>\n",
              "      <td>2644.85</td>\n",
              "      <td>2757.18</td>\n",
              "      <td>2721.2375</td>\n",
              "      <td>NaN</td>\n",
              "    </tr>\n",
              "    <tr>\n",
              "      <th>2017-07-29</th>\n",
              "      <td>2807.02</td>\n",
              "      <td>2808.76</td>\n",
              "      <td>2692.80</td>\n",
              "      <td>2726.45</td>\n",
              "      <td>2758.7575</td>\n",
              "      <td>NaN</td>\n",
              "    </tr>\n",
              "    <tr>\n",
              "      <th>2017-07-28</th>\n",
              "      <td>2679.73</td>\n",
              "      <td>2897.45</td>\n",
              "      <td>2679.73</td>\n",
              "      <td>2809.01</td>\n",
              "      <td>2766.4800</td>\n",
              "      <td>NaN</td>\n",
              "    </tr>\n",
              "    <tr>\n",
              "      <th>2017-07-27</th>\n",
              "      <td>2538.71</td>\n",
              "      <td>2693.32</td>\n",
              "      <td>2529.34</td>\n",
              "      <td>2671.78</td>\n",
              "      <td>2608.2875</td>\n",
              "      <td>NaN</td>\n",
              "    </tr>\n",
              "    <tr>\n",
              "      <th>...</th>\n",
              "      <td>...</td>\n",
              "      <td>...</td>\n",
              "      <td>...</td>\n",
              "      <td>...</td>\n",
              "      <td>...</td>\n",
              "      <td>...</td>\n",
              "    </tr>\n",
              "    <tr>\n",
              "      <th>2013-05-02</th>\n",
              "      <td>116.38</td>\n",
              "      <td>125.60</td>\n",
              "      <td>92.28</td>\n",
              "      <td>105.21</td>\n",
              "      <td>109.8675</td>\n",
              "      <td>115.00</td>\n",
              "    </tr>\n",
              "    <tr>\n",
              "      <th>2013-05-01</th>\n",
              "      <td>139.00</td>\n",
              "      <td>139.89</td>\n",
              "      <td>107.72</td>\n",
              "      <td>116.99</td>\n",
              "      <td>125.9000</td>\n",
              "      <td>115.24</td>\n",
              "    </tr>\n",
              "    <tr>\n",
              "      <th>2013-04-30</th>\n",
              "      <td>144.00</td>\n",
              "      <td>146.93</td>\n",
              "      <td>134.05</td>\n",
              "      <td>139.00</td>\n",
              "      <td>140.9950</td>\n",
              "      <td>117.20</td>\n",
              "    </tr>\n",
              "    <tr>\n",
              "      <th>2013-04-29</th>\n",
              "      <td>134.44</td>\n",
              "      <td>147.49</td>\n",
              "      <td>134.00</td>\n",
              "      <td>144.54</td>\n",
              "      <td>140.1175</td>\n",
              "      <td>112.67</td>\n",
              "    </tr>\n",
              "    <tr>\n",
              "      <th>2013-04-28</th>\n",
              "      <td>135.30</td>\n",
              "      <td>135.98</td>\n",
              "      <td>132.10</td>\n",
              "      <td>134.21</td>\n",
              "      <td>134.3975</td>\n",
              "      <td>113.57</td>\n",
              "    </tr>\n",
              "  </tbody>\n",
              "</table>\n",
              "<p>1556 rows × 6 columns</p>\n",
              "</div>\n",
              "      <button class=\"colab-df-convert\" onclick=\"convertToInteractive('df-e66c5104-e9e9-447a-91fb-3fbccce723a7')\"\n",
              "              title=\"Convert this dataframe to an interactive table.\"\n",
              "              style=\"display:none;\">\n",
              "        \n",
              "  <svg xmlns=\"http://www.w3.org/2000/svg\" height=\"24px\"viewBox=\"0 0 24 24\"\n",
              "       width=\"24px\">\n",
              "    <path d=\"M0 0h24v24H0V0z\" fill=\"none\"/>\n",
              "    <path d=\"M18.56 5.44l.94 2.06.94-2.06 2.06-.94-2.06-.94-.94-2.06-.94 2.06-2.06.94zm-11 1L8.5 8.5l.94-2.06 2.06-.94-2.06-.94L8.5 2.5l-.94 2.06-2.06.94zm10 10l.94 2.06.94-2.06 2.06-.94-2.06-.94-.94-2.06-.94 2.06-2.06.94z\"/><path d=\"M17.41 7.96l-1.37-1.37c-.4-.4-.92-.59-1.43-.59-.52 0-1.04.2-1.43.59L10.3 9.45l-7.72 7.72c-.78.78-.78 2.05 0 2.83L4 21.41c.39.39.9.59 1.41.59.51 0 1.02-.2 1.41-.59l7.78-7.78 2.81-2.81c.8-.78.8-2.07 0-2.86zM5.41 20L4 18.59l7.72-7.72 1.47 1.35L5.41 20z\"/>\n",
              "  </svg>\n",
              "      </button>\n",
              "      \n",
              "  <style>\n",
              "    .colab-df-container {\n",
              "      display:flex;\n",
              "      flex-wrap:wrap;\n",
              "      gap: 12px;\n",
              "    }\n",
              "\n",
              "    .colab-df-convert {\n",
              "      background-color: #E8F0FE;\n",
              "      border: none;\n",
              "      border-radius: 50%;\n",
              "      cursor: pointer;\n",
              "      display: none;\n",
              "      fill: #1967D2;\n",
              "      height: 32px;\n",
              "      padding: 0 0 0 0;\n",
              "      width: 32px;\n",
              "    }\n",
              "\n",
              "    .colab-df-convert:hover {\n",
              "      background-color: #E2EBFA;\n",
              "      box-shadow: 0px 1px 2px rgba(60, 64, 67, 0.3), 0px 1px 3px 1px rgba(60, 64, 67, 0.15);\n",
              "      fill: #174EA6;\n",
              "    }\n",
              "\n",
              "    [theme=dark] .colab-df-convert {\n",
              "      background-color: #3B4455;\n",
              "      fill: #D2E3FC;\n",
              "    }\n",
              "\n",
              "    [theme=dark] .colab-df-convert:hover {\n",
              "      background-color: #434B5C;\n",
              "      box-shadow: 0px 1px 3px 1px rgba(0, 0, 0, 0.15);\n",
              "      filter: drop-shadow(0px 1px 2px rgba(0, 0, 0, 0.3));\n",
              "      fill: #FFFFFF;\n",
              "    }\n",
              "  </style>\n",
              "\n",
              "      <script>\n",
              "        const buttonEl =\n",
              "          document.querySelector('#df-e66c5104-e9e9-447a-91fb-3fbccce723a7 button.colab-df-convert');\n",
              "        buttonEl.style.display =\n",
              "          google.colab.kernel.accessAllowed ? 'block' : 'none';\n",
              "\n",
              "        async function convertToInteractive(key) {\n",
              "          const element = document.querySelector('#df-e66c5104-e9e9-447a-91fb-3fbccce723a7');\n",
              "          const dataTable =\n",
              "            await google.colab.kernel.invokeFunction('convertToInteractive',\n",
              "                                                     [key], {});\n",
              "          if (!dataTable) return;\n",
              "\n",
              "          const docLinkHtml = 'Like what you see? Visit the ' +\n",
              "            '<a target=\"_blank\" href=https://colab.research.google.com/notebooks/data_table.ipynb>data table notebook</a>'\n",
              "            + ' to learn more about interactive tables.';\n",
              "          element.innerHTML = '';\n",
              "          dataTable['output_type'] = 'display_data';\n",
              "          await google.colab.output.renderOutput(dataTable, element);\n",
              "          const docLink = document.createElement('div');\n",
              "          docLink.innerHTML = docLinkHtml;\n",
              "          element.appendChild(docLink);\n",
              "        }\n",
              "      </script>\n",
              "    </div>\n",
              "  </div>\n",
              "  "
            ]
          },
          "metadata": {},
          "execution_count": 497
        }
      ]
    },
    {
      "cell_type": "code",
      "metadata": {
        "colab": {
          "base_uri": "https://localhost:8080/",
          "height": 238
        },
        "id": "WBSqZr3xO-oV",
        "outputId": "f828e1ba-c870-4ec3-f69e-8960cb2b28a9"
      },
      "source": [
        "data.head()"
      ],
      "execution_count": 498,
      "outputs": [
        {
          "output_type": "execute_result",
          "data": {
            "text/plain": [
              "               Open     High      Low    Close  AvgDayPrice  \\\n",
              "Date                                                          \n",
              "2017-07-31  2763.24  2889.62  2720.61  2875.34    2812.2025   \n",
              "2017-07-30  2724.39  2758.53  2644.85  2757.18    2721.2375   \n",
              "2017-07-29  2807.02  2808.76  2692.80  2726.45    2758.7575   \n",
              "2017-07-28  2679.73  2897.45  2679.73  2809.01    2766.4800   \n",
              "2017-07-27  2538.71  2693.32  2529.34  2671.78    2608.2875   \n",
              "\n",
              "            ClosingPriceAfter10days  \n",
              "Date                                 \n",
              "2017-07-31                      NaN  \n",
              "2017-07-30                      NaN  \n",
              "2017-07-29                      NaN  \n",
              "2017-07-28                      NaN  \n",
              "2017-07-27                      NaN  "
            ],
            "text/html": [
              "\n",
              "  <div id=\"df-9bb82dc7-49d4-4466-8443-c7864064e5be\">\n",
              "    <div class=\"colab-df-container\">\n",
              "      <div>\n",
              "<style scoped>\n",
              "    .dataframe tbody tr th:only-of-type {\n",
              "        vertical-align: middle;\n",
              "    }\n",
              "\n",
              "    .dataframe tbody tr th {\n",
              "        vertical-align: top;\n",
              "    }\n",
              "\n",
              "    .dataframe thead th {\n",
              "        text-align: right;\n",
              "    }\n",
              "</style>\n",
              "<table border=\"1\" class=\"dataframe\">\n",
              "  <thead>\n",
              "    <tr style=\"text-align: right;\">\n",
              "      <th></th>\n",
              "      <th>Open</th>\n",
              "      <th>High</th>\n",
              "      <th>Low</th>\n",
              "      <th>Close</th>\n",
              "      <th>AvgDayPrice</th>\n",
              "      <th>ClosingPriceAfter10days</th>\n",
              "    </tr>\n",
              "    <tr>\n",
              "      <th>Date</th>\n",
              "      <th></th>\n",
              "      <th></th>\n",
              "      <th></th>\n",
              "      <th></th>\n",
              "      <th></th>\n",
              "      <th></th>\n",
              "    </tr>\n",
              "  </thead>\n",
              "  <tbody>\n",
              "    <tr>\n",
              "      <th>2017-07-31</th>\n",
              "      <td>2763.24</td>\n",
              "      <td>2889.62</td>\n",
              "      <td>2720.61</td>\n",
              "      <td>2875.34</td>\n",
              "      <td>2812.2025</td>\n",
              "      <td>NaN</td>\n",
              "    </tr>\n",
              "    <tr>\n",
              "      <th>2017-07-30</th>\n",
              "      <td>2724.39</td>\n",
              "      <td>2758.53</td>\n",
              "      <td>2644.85</td>\n",
              "      <td>2757.18</td>\n",
              "      <td>2721.2375</td>\n",
              "      <td>NaN</td>\n",
              "    </tr>\n",
              "    <tr>\n",
              "      <th>2017-07-29</th>\n",
              "      <td>2807.02</td>\n",
              "      <td>2808.76</td>\n",
              "      <td>2692.80</td>\n",
              "      <td>2726.45</td>\n",
              "      <td>2758.7575</td>\n",
              "      <td>NaN</td>\n",
              "    </tr>\n",
              "    <tr>\n",
              "      <th>2017-07-28</th>\n",
              "      <td>2679.73</td>\n",
              "      <td>2897.45</td>\n",
              "      <td>2679.73</td>\n",
              "      <td>2809.01</td>\n",
              "      <td>2766.4800</td>\n",
              "      <td>NaN</td>\n",
              "    </tr>\n",
              "    <tr>\n",
              "      <th>2017-07-27</th>\n",
              "      <td>2538.71</td>\n",
              "      <td>2693.32</td>\n",
              "      <td>2529.34</td>\n",
              "      <td>2671.78</td>\n",
              "      <td>2608.2875</td>\n",
              "      <td>NaN</td>\n",
              "    </tr>\n",
              "  </tbody>\n",
              "</table>\n",
              "</div>\n",
              "      <button class=\"colab-df-convert\" onclick=\"convertToInteractive('df-9bb82dc7-49d4-4466-8443-c7864064e5be')\"\n",
              "              title=\"Convert this dataframe to an interactive table.\"\n",
              "              style=\"display:none;\">\n",
              "        \n",
              "  <svg xmlns=\"http://www.w3.org/2000/svg\" height=\"24px\"viewBox=\"0 0 24 24\"\n",
              "       width=\"24px\">\n",
              "    <path d=\"M0 0h24v24H0V0z\" fill=\"none\"/>\n",
              "    <path d=\"M18.56 5.44l.94 2.06.94-2.06 2.06-.94-2.06-.94-.94-2.06-.94 2.06-2.06.94zm-11 1L8.5 8.5l.94-2.06 2.06-.94-2.06-.94L8.5 2.5l-.94 2.06-2.06.94zm10 10l.94 2.06.94-2.06 2.06-.94-2.06-.94-.94-2.06-.94 2.06-2.06.94z\"/><path d=\"M17.41 7.96l-1.37-1.37c-.4-.4-.92-.59-1.43-.59-.52 0-1.04.2-1.43.59L10.3 9.45l-7.72 7.72c-.78.78-.78 2.05 0 2.83L4 21.41c.39.39.9.59 1.41.59.51 0 1.02-.2 1.41-.59l7.78-7.78 2.81-2.81c.8-.78.8-2.07 0-2.86zM5.41 20L4 18.59l7.72-7.72 1.47 1.35L5.41 20z\"/>\n",
              "  </svg>\n",
              "      </button>\n",
              "      \n",
              "  <style>\n",
              "    .colab-df-container {\n",
              "      display:flex;\n",
              "      flex-wrap:wrap;\n",
              "      gap: 12px;\n",
              "    }\n",
              "\n",
              "    .colab-df-convert {\n",
              "      background-color: #E8F0FE;\n",
              "      border: none;\n",
              "      border-radius: 50%;\n",
              "      cursor: pointer;\n",
              "      display: none;\n",
              "      fill: #1967D2;\n",
              "      height: 32px;\n",
              "      padding: 0 0 0 0;\n",
              "      width: 32px;\n",
              "    }\n",
              "\n",
              "    .colab-df-convert:hover {\n",
              "      background-color: #E2EBFA;\n",
              "      box-shadow: 0px 1px 2px rgba(60, 64, 67, 0.3), 0px 1px 3px 1px rgba(60, 64, 67, 0.15);\n",
              "      fill: #174EA6;\n",
              "    }\n",
              "\n",
              "    [theme=dark] .colab-df-convert {\n",
              "      background-color: #3B4455;\n",
              "      fill: #D2E3FC;\n",
              "    }\n",
              "\n",
              "    [theme=dark] .colab-df-convert:hover {\n",
              "      background-color: #434B5C;\n",
              "      box-shadow: 0px 1px 3px 1px rgba(0, 0, 0, 0.15);\n",
              "      filter: drop-shadow(0px 1px 2px rgba(0, 0, 0, 0.3));\n",
              "      fill: #FFFFFF;\n",
              "    }\n",
              "  </style>\n",
              "\n",
              "      <script>\n",
              "        const buttonEl =\n",
              "          document.querySelector('#df-9bb82dc7-49d4-4466-8443-c7864064e5be button.colab-df-convert');\n",
              "        buttonEl.style.display =\n",
              "          google.colab.kernel.accessAllowed ? 'block' : 'none';\n",
              "\n",
              "        async function convertToInteractive(key) {\n",
              "          const element = document.querySelector('#df-9bb82dc7-49d4-4466-8443-c7864064e5be');\n",
              "          const dataTable =\n",
              "            await google.colab.kernel.invokeFunction('convertToInteractive',\n",
              "                                                     [key], {});\n",
              "          if (!dataTable) return;\n",
              "\n",
              "          const docLinkHtml = 'Like what you see? Visit the ' +\n",
              "            '<a target=\"_blank\" href=https://colab.research.google.com/notebooks/data_table.ipynb>data table notebook</a>'\n",
              "            + ' to learn more about interactive tables.';\n",
              "          element.innerHTML = '';\n",
              "          dataTable['output_type'] = 'display_data';\n",
              "          await google.colab.output.renderOutput(dataTable, element);\n",
              "          const docLink = document.createElement('div');\n",
              "          docLink.innerHTML = docLinkHtml;\n",
              "          element.appendChild(docLink);\n",
              "        }\n",
              "      </script>\n",
              "    </div>\n",
              "  </div>\n",
              "  "
            ]
          },
          "metadata": {},
          "execution_count": 498
        }
      ]
    },
    {
      "cell_type": "code",
      "source": [
        "data.dropna(inplace=True) # dropping the rows containing null values"
      ],
      "metadata": {
        "id": "8LVKPwD_FXgk"
      },
      "execution_count": 499,
      "outputs": []
    },
    {
      "cell_type": "code",
      "source": [
        "data"
      ],
      "metadata": {
        "colab": {
          "base_uri": "https://localhost:8080/",
          "height": 455
        },
        "id": "-ZCbe8qUFiDy",
        "outputId": "0432719c-70b4-4c46-b08b-17690ecc2f35"
      },
      "execution_count": 500,
      "outputs": [
        {
          "output_type": "execute_result",
          "data": {
            "text/plain": [
              "               Open     High      Low    Close  AvgDayPrice  \\\n",
              "Date                                                          \n",
              "2017-07-21  2838.41  2838.41  2621.85  2667.76    2741.6075   \n",
              "2017-07-20  2269.89  2900.70  2269.89  2817.60    2564.5200   \n",
              "2017-07-19  2323.08  2397.17  2260.23  2273.43    2313.4775   \n",
              "2017-07-18  2233.52  2387.61  2164.77  2318.88    2276.1950   \n",
              "2017-07-17  1932.62  2230.49  1932.62  2228.41    2081.0350   \n",
              "...             ...      ...      ...      ...          ...   \n",
              "2013-05-02   116.38   125.60    92.28   105.21     109.8675   \n",
              "2013-05-01   139.00   139.89   107.72   116.99     125.9000   \n",
              "2013-04-30   144.00   146.93   134.05   139.00     140.9950   \n",
              "2013-04-29   134.44   147.49   134.00   144.54     140.1175   \n",
              "2013-04-28   135.30   135.98   132.10   134.21     134.3975   \n",
              "\n",
              "            ClosingPriceAfter10days  \n",
              "Date                                 \n",
              "2017-07-21                  2875.34  \n",
              "2017-07-20                  2757.18  \n",
              "2017-07-19                  2726.45  \n",
              "2017-07-18                  2809.01  \n",
              "2017-07-17                  2671.78  \n",
              "...                             ...  \n",
              "2013-05-02                   115.00  \n",
              "2013-05-01                   115.24  \n",
              "2013-04-30                   117.20  \n",
              "2013-04-29                   112.67  \n",
              "2013-04-28                   113.57  \n",
              "\n",
              "[1546 rows x 6 columns]"
            ],
            "text/html": [
              "\n",
              "  <div id=\"df-11b83a24-ba19-4b7d-99cf-698063a511b6\">\n",
              "    <div class=\"colab-df-container\">\n",
              "      <div>\n",
              "<style scoped>\n",
              "    .dataframe tbody tr th:only-of-type {\n",
              "        vertical-align: middle;\n",
              "    }\n",
              "\n",
              "    .dataframe tbody tr th {\n",
              "        vertical-align: top;\n",
              "    }\n",
              "\n",
              "    .dataframe thead th {\n",
              "        text-align: right;\n",
              "    }\n",
              "</style>\n",
              "<table border=\"1\" class=\"dataframe\">\n",
              "  <thead>\n",
              "    <tr style=\"text-align: right;\">\n",
              "      <th></th>\n",
              "      <th>Open</th>\n",
              "      <th>High</th>\n",
              "      <th>Low</th>\n",
              "      <th>Close</th>\n",
              "      <th>AvgDayPrice</th>\n",
              "      <th>ClosingPriceAfter10days</th>\n",
              "    </tr>\n",
              "    <tr>\n",
              "      <th>Date</th>\n",
              "      <th></th>\n",
              "      <th></th>\n",
              "      <th></th>\n",
              "      <th></th>\n",
              "      <th></th>\n",
              "      <th></th>\n",
              "    </tr>\n",
              "  </thead>\n",
              "  <tbody>\n",
              "    <tr>\n",
              "      <th>2017-07-21</th>\n",
              "      <td>2838.41</td>\n",
              "      <td>2838.41</td>\n",
              "      <td>2621.85</td>\n",
              "      <td>2667.76</td>\n",
              "      <td>2741.6075</td>\n",
              "      <td>2875.34</td>\n",
              "    </tr>\n",
              "    <tr>\n",
              "      <th>2017-07-20</th>\n",
              "      <td>2269.89</td>\n",
              "      <td>2900.70</td>\n",
              "      <td>2269.89</td>\n",
              "      <td>2817.60</td>\n",
              "      <td>2564.5200</td>\n",
              "      <td>2757.18</td>\n",
              "    </tr>\n",
              "    <tr>\n",
              "      <th>2017-07-19</th>\n",
              "      <td>2323.08</td>\n",
              "      <td>2397.17</td>\n",
              "      <td>2260.23</td>\n",
              "      <td>2273.43</td>\n",
              "      <td>2313.4775</td>\n",
              "      <td>2726.45</td>\n",
              "    </tr>\n",
              "    <tr>\n",
              "      <th>2017-07-18</th>\n",
              "      <td>2233.52</td>\n",
              "      <td>2387.61</td>\n",
              "      <td>2164.77</td>\n",
              "      <td>2318.88</td>\n",
              "      <td>2276.1950</td>\n",
              "      <td>2809.01</td>\n",
              "    </tr>\n",
              "    <tr>\n",
              "      <th>2017-07-17</th>\n",
              "      <td>1932.62</td>\n",
              "      <td>2230.49</td>\n",
              "      <td>1932.62</td>\n",
              "      <td>2228.41</td>\n",
              "      <td>2081.0350</td>\n",
              "      <td>2671.78</td>\n",
              "    </tr>\n",
              "    <tr>\n",
              "      <th>...</th>\n",
              "      <td>...</td>\n",
              "      <td>...</td>\n",
              "      <td>...</td>\n",
              "      <td>...</td>\n",
              "      <td>...</td>\n",
              "      <td>...</td>\n",
              "    </tr>\n",
              "    <tr>\n",
              "      <th>2013-05-02</th>\n",
              "      <td>116.38</td>\n",
              "      <td>125.60</td>\n",
              "      <td>92.28</td>\n",
              "      <td>105.21</td>\n",
              "      <td>109.8675</td>\n",
              "      <td>115.00</td>\n",
              "    </tr>\n",
              "    <tr>\n",
              "      <th>2013-05-01</th>\n",
              "      <td>139.00</td>\n",
              "      <td>139.89</td>\n",
              "      <td>107.72</td>\n",
              "      <td>116.99</td>\n",
              "      <td>125.9000</td>\n",
              "      <td>115.24</td>\n",
              "    </tr>\n",
              "    <tr>\n",
              "      <th>2013-04-30</th>\n",
              "      <td>144.00</td>\n",
              "      <td>146.93</td>\n",
              "      <td>134.05</td>\n",
              "      <td>139.00</td>\n",
              "      <td>140.9950</td>\n",
              "      <td>117.20</td>\n",
              "    </tr>\n",
              "    <tr>\n",
              "      <th>2013-04-29</th>\n",
              "      <td>134.44</td>\n",
              "      <td>147.49</td>\n",
              "      <td>134.00</td>\n",
              "      <td>144.54</td>\n",
              "      <td>140.1175</td>\n",
              "      <td>112.67</td>\n",
              "    </tr>\n",
              "    <tr>\n",
              "      <th>2013-04-28</th>\n",
              "      <td>135.30</td>\n",
              "      <td>135.98</td>\n",
              "      <td>132.10</td>\n",
              "      <td>134.21</td>\n",
              "      <td>134.3975</td>\n",
              "      <td>113.57</td>\n",
              "    </tr>\n",
              "  </tbody>\n",
              "</table>\n",
              "<p>1546 rows × 6 columns</p>\n",
              "</div>\n",
              "      <button class=\"colab-df-convert\" onclick=\"convertToInteractive('df-11b83a24-ba19-4b7d-99cf-698063a511b6')\"\n",
              "              title=\"Convert this dataframe to an interactive table.\"\n",
              "              style=\"display:none;\">\n",
              "        \n",
              "  <svg xmlns=\"http://www.w3.org/2000/svg\" height=\"24px\"viewBox=\"0 0 24 24\"\n",
              "       width=\"24px\">\n",
              "    <path d=\"M0 0h24v24H0V0z\" fill=\"none\"/>\n",
              "    <path d=\"M18.56 5.44l.94 2.06.94-2.06 2.06-.94-2.06-.94-.94-2.06-.94 2.06-2.06.94zm-11 1L8.5 8.5l.94-2.06 2.06-.94-2.06-.94L8.5 2.5l-.94 2.06-2.06.94zm10 10l.94 2.06.94-2.06 2.06-.94-2.06-.94-.94-2.06-.94 2.06-2.06.94z\"/><path d=\"M17.41 7.96l-1.37-1.37c-.4-.4-.92-.59-1.43-.59-.52 0-1.04.2-1.43.59L10.3 9.45l-7.72 7.72c-.78.78-.78 2.05 0 2.83L4 21.41c.39.39.9.59 1.41.59.51 0 1.02-.2 1.41-.59l7.78-7.78 2.81-2.81c.8-.78.8-2.07 0-2.86zM5.41 20L4 18.59l7.72-7.72 1.47 1.35L5.41 20z\"/>\n",
              "  </svg>\n",
              "      </button>\n",
              "      \n",
              "  <style>\n",
              "    .colab-df-container {\n",
              "      display:flex;\n",
              "      flex-wrap:wrap;\n",
              "      gap: 12px;\n",
              "    }\n",
              "\n",
              "    .colab-df-convert {\n",
              "      background-color: #E8F0FE;\n",
              "      border: none;\n",
              "      border-radius: 50%;\n",
              "      cursor: pointer;\n",
              "      display: none;\n",
              "      fill: #1967D2;\n",
              "      height: 32px;\n",
              "      padding: 0 0 0 0;\n",
              "      width: 32px;\n",
              "    }\n",
              "\n",
              "    .colab-df-convert:hover {\n",
              "      background-color: #E2EBFA;\n",
              "      box-shadow: 0px 1px 2px rgba(60, 64, 67, 0.3), 0px 1px 3px 1px rgba(60, 64, 67, 0.15);\n",
              "      fill: #174EA6;\n",
              "    }\n",
              "\n",
              "    [theme=dark] .colab-df-convert {\n",
              "      background-color: #3B4455;\n",
              "      fill: #D2E3FC;\n",
              "    }\n",
              "\n",
              "    [theme=dark] .colab-df-convert:hover {\n",
              "      background-color: #434B5C;\n",
              "      box-shadow: 0px 1px 3px 1px rgba(0, 0, 0, 0.15);\n",
              "      filter: drop-shadow(0px 1px 2px rgba(0, 0, 0, 0.3));\n",
              "      fill: #FFFFFF;\n",
              "    }\n",
              "  </style>\n",
              "\n",
              "      <script>\n",
              "        const buttonEl =\n",
              "          document.querySelector('#df-11b83a24-ba19-4b7d-99cf-698063a511b6 button.colab-df-convert');\n",
              "        buttonEl.style.display =\n",
              "          google.colab.kernel.accessAllowed ? 'block' : 'none';\n",
              "\n",
              "        async function convertToInteractive(key) {\n",
              "          const element = document.querySelector('#df-11b83a24-ba19-4b7d-99cf-698063a511b6');\n",
              "          const dataTable =\n",
              "            await google.colab.kernel.invokeFunction('convertToInteractive',\n",
              "                                                     [key], {});\n",
              "          if (!dataTable) return;\n",
              "\n",
              "          const docLinkHtml = 'Like what you see? Visit the ' +\n",
              "            '<a target=\"_blank\" href=https://colab.research.google.com/notebooks/data_table.ipynb>data table notebook</a>'\n",
              "            + ' to learn more about interactive tables.';\n",
              "          element.innerHTML = '';\n",
              "          dataTable['output_type'] = 'display_data';\n",
              "          await google.colab.output.renderOutput(dataTable, element);\n",
              "          const docLink = document.createElement('div');\n",
              "          docLink.innerHTML = docLinkHtml;\n",
              "          element.appendChild(docLink);\n",
              "        }\n",
              "      </script>\n",
              "    </div>\n",
              "  </div>\n",
              "  "
            ]
          },
          "metadata": {},
          "execution_count": 500
        }
      ]
    },
    {
      "cell_type": "code",
      "source": [
        "data.head()"
      ],
      "metadata": {
        "colab": {
          "base_uri": "https://localhost:8080/",
          "height": 238
        },
        "id": "0Fj82HhsFkJf",
        "outputId": "42194032-3e5e-474d-d99f-e497c9b2a5e8"
      },
      "execution_count": 501,
      "outputs": [
        {
          "output_type": "execute_result",
          "data": {
            "text/plain": [
              "               Open     High      Low    Close  AvgDayPrice  \\\n",
              "Date                                                          \n",
              "2017-07-21  2838.41  2838.41  2621.85  2667.76    2741.6075   \n",
              "2017-07-20  2269.89  2900.70  2269.89  2817.60    2564.5200   \n",
              "2017-07-19  2323.08  2397.17  2260.23  2273.43    2313.4775   \n",
              "2017-07-18  2233.52  2387.61  2164.77  2318.88    2276.1950   \n",
              "2017-07-17  1932.62  2230.49  1932.62  2228.41    2081.0350   \n",
              "\n",
              "            ClosingPriceAfter10days  \n",
              "Date                                 \n",
              "2017-07-21                  2875.34  \n",
              "2017-07-20                  2757.18  \n",
              "2017-07-19                  2726.45  \n",
              "2017-07-18                  2809.01  \n",
              "2017-07-17                  2671.78  "
            ],
            "text/html": [
              "\n",
              "  <div id=\"df-23bc1f86-ad5b-4a56-ad0c-133e31b79f7c\">\n",
              "    <div class=\"colab-df-container\">\n",
              "      <div>\n",
              "<style scoped>\n",
              "    .dataframe tbody tr th:only-of-type {\n",
              "        vertical-align: middle;\n",
              "    }\n",
              "\n",
              "    .dataframe tbody tr th {\n",
              "        vertical-align: top;\n",
              "    }\n",
              "\n",
              "    .dataframe thead th {\n",
              "        text-align: right;\n",
              "    }\n",
              "</style>\n",
              "<table border=\"1\" class=\"dataframe\">\n",
              "  <thead>\n",
              "    <tr style=\"text-align: right;\">\n",
              "      <th></th>\n",
              "      <th>Open</th>\n",
              "      <th>High</th>\n",
              "      <th>Low</th>\n",
              "      <th>Close</th>\n",
              "      <th>AvgDayPrice</th>\n",
              "      <th>ClosingPriceAfter10days</th>\n",
              "    </tr>\n",
              "    <tr>\n",
              "      <th>Date</th>\n",
              "      <th></th>\n",
              "      <th></th>\n",
              "      <th></th>\n",
              "      <th></th>\n",
              "      <th></th>\n",
              "      <th></th>\n",
              "    </tr>\n",
              "  </thead>\n",
              "  <tbody>\n",
              "    <tr>\n",
              "      <th>2017-07-21</th>\n",
              "      <td>2838.41</td>\n",
              "      <td>2838.41</td>\n",
              "      <td>2621.85</td>\n",
              "      <td>2667.76</td>\n",
              "      <td>2741.6075</td>\n",
              "      <td>2875.34</td>\n",
              "    </tr>\n",
              "    <tr>\n",
              "      <th>2017-07-20</th>\n",
              "      <td>2269.89</td>\n",
              "      <td>2900.70</td>\n",
              "      <td>2269.89</td>\n",
              "      <td>2817.60</td>\n",
              "      <td>2564.5200</td>\n",
              "      <td>2757.18</td>\n",
              "    </tr>\n",
              "    <tr>\n",
              "      <th>2017-07-19</th>\n",
              "      <td>2323.08</td>\n",
              "      <td>2397.17</td>\n",
              "      <td>2260.23</td>\n",
              "      <td>2273.43</td>\n",
              "      <td>2313.4775</td>\n",
              "      <td>2726.45</td>\n",
              "    </tr>\n",
              "    <tr>\n",
              "      <th>2017-07-18</th>\n",
              "      <td>2233.52</td>\n",
              "      <td>2387.61</td>\n",
              "      <td>2164.77</td>\n",
              "      <td>2318.88</td>\n",
              "      <td>2276.1950</td>\n",
              "      <td>2809.01</td>\n",
              "    </tr>\n",
              "    <tr>\n",
              "      <th>2017-07-17</th>\n",
              "      <td>1932.62</td>\n",
              "      <td>2230.49</td>\n",
              "      <td>1932.62</td>\n",
              "      <td>2228.41</td>\n",
              "      <td>2081.0350</td>\n",
              "      <td>2671.78</td>\n",
              "    </tr>\n",
              "  </tbody>\n",
              "</table>\n",
              "</div>\n",
              "      <button class=\"colab-df-convert\" onclick=\"convertToInteractive('df-23bc1f86-ad5b-4a56-ad0c-133e31b79f7c')\"\n",
              "              title=\"Convert this dataframe to an interactive table.\"\n",
              "              style=\"display:none;\">\n",
              "        \n",
              "  <svg xmlns=\"http://www.w3.org/2000/svg\" height=\"24px\"viewBox=\"0 0 24 24\"\n",
              "       width=\"24px\">\n",
              "    <path d=\"M0 0h24v24H0V0z\" fill=\"none\"/>\n",
              "    <path d=\"M18.56 5.44l.94 2.06.94-2.06 2.06-.94-2.06-.94-.94-2.06-.94 2.06-2.06.94zm-11 1L8.5 8.5l.94-2.06 2.06-.94-2.06-.94L8.5 2.5l-.94 2.06-2.06.94zm10 10l.94 2.06.94-2.06 2.06-.94-2.06-.94-.94-2.06-.94 2.06-2.06.94z\"/><path d=\"M17.41 7.96l-1.37-1.37c-.4-.4-.92-.59-1.43-.59-.52 0-1.04.2-1.43.59L10.3 9.45l-7.72 7.72c-.78.78-.78 2.05 0 2.83L4 21.41c.39.39.9.59 1.41.59.51 0 1.02-.2 1.41-.59l7.78-7.78 2.81-2.81c.8-.78.8-2.07 0-2.86zM5.41 20L4 18.59l7.72-7.72 1.47 1.35L5.41 20z\"/>\n",
              "  </svg>\n",
              "      </button>\n",
              "      \n",
              "  <style>\n",
              "    .colab-df-container {\n",
              "      display:flex;\n",
              "      flex-wrap:wrap;\n",
              "      gap: 12px;\n",
              "    }\n",
              "\n",
              "    .colab-df-convert {\n",
              "      background-color: #E8F0FE;\n",
              "      border: none;\n",
              "      border-radius: 50%;\n",
              "      cursor: pointer;\n",
              "      display: none;\n",
              "      fill: #1967D2;\n",
              "      height: 32px;\n",
              "      padding: 0 0 0 0;\n",
              "      width: 32px;\n",
              "    }\n",
              "\n",
              "    .colab-df-convert:hover {\n",
              "      background-color: #E2EBFA;\n",
              "      box-shadow: 0px 1px 2px rgba(60, 64, 67, 0.3), 0px 1px 3px 1px rgba(60, 64, 67, 0.15);\n",
              "      fill: #174EA6;\n",
              "    }\n",
              "\n",
              "    [theme=dark] .colab-df-convert {\n",
              "      background-color: #3B4455;\n",
              "      fill: #D2E3FC;\n",
              "    }\n",
              "\n",
              "    [theme=dark] .colab-df-convert:hover {\n",
              "      background-color: #434B5C;\n",
              "      box-shadow: 0px 1px 3px 1px rgba(0, 0, 0, 0.15);\n",
              "      filter: drop-shadow(0px 1px 2px rgba(0, 0, 0, 0.3));\n",
              "      fill: #FFFFFF;\n",
              "    }\n",
              "  </style>\n",
              "\n",
              "      <script>\n",
              "        const buttonEl =\n",
              "          document.querySelector('#df-23bc1f86-ad5b-4a56-ad0c-133e31b79f7c button.colab-df-convert');\n",
              "        buttonEl.style.display =\n",
              "          google.colab.kernel.accessAllowed ? 'block' : 'none';\n",
              "\n",
              "        async function convertToInteractive(key) {\n",
              "          const element = document.querySelector('#df-23bc1f86-ad5b-4a56-ad0c-133e31b79f7c');\n",
              "          const dataTable =\n",
              "            await google.colab.kernel.invokeFunction('convertToInteractive',\n",
              "                                                     [key], {});\n",
              "          if (!dataTable) return;\n",
              "\n",
              "          const docLinkHtml = 'Like what you see? Visit the ' +\n",
              "            '<a target=\"_blank\" href=https://colab.research.google.com/notebooks/data_table.ipynb>data table notebook</a>'\n",
              "            + ' to learn more about interactive tables.';\n",
              "          element.innerHTML = '';\n",
              "          dataTable['output_type'] = 'display_data';\n",
              "          await google.colab.output.renderOutput(dataTable, element);\n",
              "          const docLink = document.createElement('div');\n",
              "          docLink.innerHTML = docLinkHtml;\n",
              "          element.appendChild(docLink);\n",
              "        }\n",
              "      </script>\n",
              "    </div>\n",
              "  </div>\n",
              "  "
            ]
          },
          "metadata": {},
          "execution_count": 501
        }
      ]
    },
    {
      "cell_type": "code",
      "source": [
        "sns.lineplot(data = data, x='Date', y='Open') # visualizing the daily change in opening price of bitcoin"
      ],
      "metadata": {
        "colab": {
          "base_uri": "https://localhost:8080/",
          "height": 302
        },
        "id": "ZdYYuciRHmGd",
        "outputId": "8aa391ab-aed4-4660-b151-3ec9a32ad2d9"
      },
      "execution_count": 502,
      "outputs": [
        {
          "output_type": "execute_result",
          "data": {
            "text/plain": [
              "<matplotlib.axes._subplots.AxesSubplot at 0x7fbe26d08250>"
            ]
          },
          "metadata": {},
          "execution_count": 502
        },
        {
          "output_type": "display_data",
          "data": {
            "text/plain": [
              "<Figure size 432x288 with 1 Axes>"
            ],
            "image/png": "[encoded data removed]"
          },
          "metadata": {}
        }
      ]
    },
    {
      "cell_type": "code",
      "source": [
        "sns.lineplot(data = data, x='Date', y='Close') # visualizing the daily change in closing price of bitcoin"
      ],
      "metadata": {
        "colab": {
          "base_uri": "https://localhost:8080/",
          "height": 302
        },
        "id": "wwJeTzQ4HtoX",
        "outputId": "55ccd027-402a-4f26-d610-8a134fc4ffa2"
      },
      "execution_count": 503,
      "outputs": [
        {
          "output_type": "execute_result",
          "data": {
            "text/plain": [
              "<matplotlib.axes._subplots.AxesSubplot at 0x7fbe26ca5f10>"
            ]
          },
          "metadata": {},
          "execution_count": 503
        },
        {
          "output_type": "display_data",
          "data": {
            "text/plain": [
              "<Figure size 432x288 with 1 Axes>"
            ],
            "image/png": "[encoded data removed]"
          },
          "metadata": {}
        }
      ]
    },
    {
      "cell_type": "code",
      "source": [
        "sns.lineplot(data = data, x='Date', y='High') # visualizing the daily change in high price of bitcoin"
      ],
      "metadata": {
        "colab": {
          "base_uri": "https://localhost:8080/",
          "height": 302
        },
        "id": "zhkyXJilHwV1",
        "outputId": "70476250-9ea8-45e2-dc8e-cca9818ac231"
      },
      "execution_count": 504,
      "outputs": [
        {
          "output_type": "execute_result",
          "data": {
            "text/plain": [
              "<matplotlib.axes._subplots.AxesSubplot at 0x7fbe26bf3d10>"
            ]
          },
          "metadata": {},
          "execution_count": 504
        },
        {
          "output_type": "display_data",
          "data": {
            "text/plain": [
              "<Figure size 432x288 with 1 Axes>"
            ],
            "image/png": "[encoded data removed]"
          },
          "metadata": {}
        }
      ]
    },
    {
      "cell_type": "code",
      "source": [
        "sns.lineplot(data = data, x='Date', y='Low') # visualizing the daily change in low price of bitcoin"
      ],
      "metadata": {
        "colab": {
          "base_uri": "https://localhost:8080/",
          "height": 302
        },
        "id": "CrVOuO1UHyyY",
        "outputId": "c98036f4-4c6d-421a-acb0-dda2efd440a9"
      },
      "execution_count": 505,
      "outputs": [
        {
          "output_type": "execute_result",
          "data": {
            "text/plain": [
              "<matplotlib.axes._subplots.AxesSubplot at 0x7fbe26c5e990>"
            ]
          },
          "metadata": {},
          "execution_count": 505
        },
        {
          "output_type": "display_data",
          "data": {
            "text/plain": [
              "<Figure size 432x288 with 1 Axes>"
            ],
            "image/png": "[encoded data removed]"
          },
          "metadata": {}
        }
      ]
    },
    {
      "cell_type": "code",
      "source": [
        "sns.lineplot(data = data, x='Date', y='AvgDayPrice') # visualizing the daily change in average day price of bitcoin"
      ],
      "metadata": {
        "colab": {
          "base_uri": "https://localhost:8080/",
          "height": 302
        },
        "id": "bndVPSAuH2RK",
        "outputId": "10121123-0d37-497b-9079-6eccd454f65c"
      },
      "execution_count": 506,
      "outputs": [
        {
          "output_type": "execute_result",
          "data": {
            "text/plain": [
              "<matplotlib.axes._subplots.AxesSubplot at 0x7fbe26b65d10>"
            ]
          },
          "metadata": {},
          "execution_count": 506
        },
        {
          "output_type": "display_data",
          "data": {
            "text/plain": [
              "<Figure size 432x288 with 1 Axes>"
            ],
            "image/png": "[encoded data removed]"
          },
          "metadata": {}
        }
      ]
    },
    {
      "cell_type": "markdown",
      "source": [
        "#### Dividing the dataset into two groups (to_be_predicted_feature and input_features)"
      ],
      "metadata": {
        "id": "Pg0VYAeAgs61"
      }
    },
    {
      "cell_type": "code",
      "metadata": {
        "id": "Ony90Ono8rM9"
      },
      "source": [
        "x= data.drop(columns=['ClosingPriceAfter10days'])\n",
        "y=data['ClosingPriceAfter10days']"
      ],
      "execution_count": 507,
      "outputs": []
    },
    {
      "cell_type": "markdown",
      "source": [
        "#### Splitting the dataset into training and testing dataset"
      ],
      "metadata": {
        "id": "MTwQ9t7Agw1L"
      }
    },
    {
      "cell_type": "code",
      "metadata": {
        "id": "Z7JVuYxM9AmH"
      },
      "source": [
        "from sklearn.model_selection import train_test_split\n",
        "X_train,X_test,Y_train,Y_test=train_test_split(x,y,test_size=0.15,random_state=42)"
      ],
      "execution_count": 508,
      "outputs": []
    },
    {
      "cell_type": "code",
      "metadata": {
        "colab": {
          "base_uri": "https://localhost:8080/",
          "height": 455
        },
        "id": "6wYoGvLP9dUC",
        "outputId": "9d627616-01f1-433e-801f-62c91da78363"
      },
      "source": [
        "X_train"
      ],
      "execution_count": 509,
      "outputs": [
        {
          "output_type": "execute_result",
          "data": {
            "text/plain": [
              "              Open    High     Low   Close  AvgDayPrice\n",
              "Date                                                   \n",
              "2016-11-02  730.07  740.83  722.35  740.83     733.5200\n",
              "2013-07-16   98.89   99.86   96.14   97.45      98.0850\n",
              "2015-01-11  274.61  279.64  265.04  265.66     271.2375\n",
              "2016-12-02  757.54  781.30  757.54  777.94     768.5800\n",
              "2013-11-24  795.63  807.36  722.87  774.25     775.0275\n",
              "...            ...     ...     ...     ...          ...\n",
              "2014-06-17  591.59  610.89  590.40  610.86     600.9350\n",
              "2014-01-04  823.27  859.51  801.67  859.51     835.9900\n",
              "2015-03-14  284.44  286.34  280.98  281.88     283.4100\n",
              "2013-07-23   91.60   96.82   91.60   95.56      93.8950\n",
              "2014-06-21  593.68  599.46  587.74  594.99     593.9675\n",
              "\n",
              "[1314 rows x 5 columns]"
            ],
            "text/html": [
              "\n",
              "  <div id=\"df-14fac085-17b7-40d2-8751-a96790a302be\">\n",
              "    <div class=\"colab-df-container\">\n",
              "      <div>\n",
              "<style scoped>\n",
              "    .dataframe tbody tr th:only-of-type {\n",
              "        vertical-align: middle;\n",
              "    }\n",
              "\n",
              "    .dataframe tbody tr th {\n",
              "        vertical-align: top;\n",
              "    }\n",
              "\n",
              "    .dataframe thead th {\n",
              "        text-align: right;\n",
              "    }\n",
              "</style>\n",
              "<table border=\"1\" class=\"dataframe\">\n",
              "  <thead>\n",
              "    <tr style=\"text-align: right;\">\n",
              "      <th></th>\n",
              "      <th>Open</th>\n",
              "      <th>High</th>\n",
              "      <th>Low</th>\n",
              "      <th>Close</th>\n",
              "      <th>AvgDayPrice</th>\n",
              "    </tr>\n",
              "    <tr>\n",
              "      <th>Date</th>\n",
              "      <th></th>\n",
              "      <th></th>\n",
              "      <th></th>\n",
              "      <th></th>\n",
              "      <th></th>\n",
              "    </tr>\n",
              "  </thead>\n",
              "  <tbody>\n",
              "    <tr>\n",
              "      <th>2016-11-02</th>\n",
              "      <td>730.07</td>\n",
              "      <td>740.83</td>\n",
              "      <td>722.35</td>\n",
              "      <td>740.83</td>\n",
              "      <td>733.5200</td>\n",
              "    </tr>\n",
              "    <tr>\n",
              "      <th>2013-07-16</th>\n",
              "      <td>98.89</td>\n",
              "      <td>99.86</td>\n",
              "      <td>96.14</td>\n",
              "      <td>97.45</td>\n",
              "      <td>98.0850</td>\n",
              "    </tr>\n",
              "    <tr>\n",
              "      <th>2015-01-11</th>\n",
              "      <td>274.61</td>\n",
              "      <td>279.64</td>\n",
              "      <td>265.04</td>\n",
              "      <td>265.66</td>\n",
              "      <td>271.2375</td>\n",
              "    </tr>\n",
              "    <tr>\n",
              "      <th>2016-12-02</th>\n",
              "      <td>757.54</td>\n",
              "      <td>781.30</td>\n",
              "      <td>757.54</td>\n",
              "      <td>777.94</td>\n",
              "      <td>768.5800</td>\n",
              "    </tr>\n",
              "    <tr>\n",
              "      <th>2013-11-24</th>\n",
              "      <td>795.63</td>\n",
              "      <td>807.36</td>\n",
              "      <td>722.87</td>\n",
              "      <td>774.25</td>\n",
              "      <td>775.0275</td>\n",
              "    </tr>\n",
              "    <tr>\n",
              "      <th>...</th>\n",
              "      <td>...</td>\n",
              "      <td>...</td>\n",
              "      <td>...</td>\n",
              "      <td>...</td>\n",
              "      <td>...</td>\n",
              "    </tr>\n",
              "    <tr>\n",
              "      <th>2014-06-17</th>\n",
              "      <td>591.59</td>\n",
              "      <td>610.89</td>\n",
              "      <td>590.40</td>\n",
              "      <td>610.86</td>\n",
              "      <td>600.9350</td>\n",
              "    </tr>\n",
              "    <tr>\n",
              "      <th>2014-01-04</th>\n",
              "      <td>823.27</td>\n",
              "      <td>859.51</td>\n",
              "      <td>801.67</td>\n",
              "      <td>859.51</td>\n",
              "      <td>835.9900</td>\n",
              "    </tr>\n",
              "    <tr>\n",
              "      <th>2015-03-14</th>\n",
              "      <td>284.44</td>\n",
              "      <td>286.34</td>\n",
              "      <td>280.98</td>\n",
              "      <td>281.88</td>\n",
              "      <td>283.4100</td>\n",
              "    </tr>\n",
              "    <tr>\n",
              "      <th>2013-07-23</th>\n",
              "      <td>91.60</td>\n",
              "      <td>96.82</td>\n",
              "      <td>91.60</td>\n",
              "      <td>95.56</td>\n",
              "      <td>93.8950</td>\n",
              "    </tr>\n",
              "    <tr>\n",
              "      <th>2014-06-21</th>\n",
              "      <td>593.68</td>\n",
              "      <td>599.46</td>\n",
              "      <td>587.74</td>\n",
              "      <td>594.99</td>\n",
              "      <td>593.9675</td>\n",
              "    </tr>\n",
              "  </tbody>\n",
              "</table>\n",
              "<p>1314 rows × 5 columns</p>\n",
              "</div>\n",
              "      <button class=\"colab-df-convert\" onclick=\"convertToInteractive('df-14fac085-17b7-40d2-8751-a96790a302be')\"\n",
              "              title=\"Convert this dataframe to an interactive table.\"\n",
              "              style=\"display:none;\">\n",
              "        \n",
              "  <svg xmlns=\"http://www.w3.org/2000/svg\" height=\"24px\"viewBox=\"0 0 24 24\"\n",
              "       width=\"24px\">\n",
              "    <path d=\"M0 0h24v24H0V0z\" fill=\"none\"/>\n",
              "    <path d=\"M18.56 5.44l.94 2.06.94-2.06 2.06-.94-2.06-.94-.94-2.06-.94 2.06-2.06.94zm-11 1L8.5 8.5l.94-2.06 2.06-.94-2.06-.94L8.5 2.5l-.94 2.06-2.06.94zm10 10l.94 2.06.94-2.06 2.06-.94-2.06-.94-.94-2.06-.94 2.06-2.06.94z\"/><path d=\"M17.41 7.96l-1.37-1.37c-.4-.4-.92-.59-1.43-.59-.52 0-1.04.2-1.43.59L10.3 9.45l-7.72 7.72c-.78.78-.78 2.05 0 2.83L4 21.41c.39.39.9.59 1.41.59.51 0 1.02-.2 1.41-.59l7.78-7.78 2.81-2.81c.8-.78.8-2.07 0-2.86zM5.41 20L4 18.59l7.72-7.72 1.47 1.35L5.41 20z\"/>\n",
              "  </svg>\n",
              "      </button>\n",
              "      \n",
              "  <style>\n",
              "    .colab-df-container {\n",
              "      display:flex;\n",
              "      flex-wrap:wrap;\n",
              "      gap: 12px;\n",
              "    }\n",
              "\n",
              "    .colab-df-convert {\n",
              "      background-color: #E8F0FE;\n",
              "      border: none;\n",
              "      border-radius: 50%;\n",
              "      cursor: pointer;\n",
              "      display: none;\n",
              "      fill: #1967D2;\n",
              "      height: 32px;\n",
              "      padding: 0 0 0 0;\n",
              "      width: 32px;\n",
              "    }\n",
              "\n",
              "    .colab-df-convert:hover {\n",
              "      background-color: #E2EBFA;\n",
              "      box-shadow: 0px 1px 2px rgba(60, 64, 67, 0.3), 0px 1px 3px 1px rgba(60, 64, 67, 0.15);\n",
              "      fill: #174EA6;\n",
              "    }\n",
              "\n",
              "    [theme=dark] .colab-df-convert {\n",
              "      background-color: #3B4455;\n",
              "      fill: #D2E3FC;\n",
              "    }\n",
              "\n",
              "    [theme=dark] .colab-df-convert:hover {\n",
              "      background-color: #434B5C;\n",
              "      box-shadow: 0px 1px 3px 1px rgba(0, 0, 0, 0.15);\n",
              "      filter: drop-shadow(0px 1px 2px rgba(0, 0, 0, 0.3));\n",
              "      fill: #FFFFFF;\n",
              "    }\n",
              "  </style>\n",
              "\n",
              "      <script>\n",
              "        const buttonEl =\n",
              "          document.querySelector('#df-14fac085-17b7-40d2-8751-a96790a302be button.colab-df-convert');\n",
              "        buttonEl.style.display =\n",
              "          google.colab.kernel.accessAllowed ? 'block' : 'none';\n",
              "\n",
              "        async function convertToInteractive(key) {\n",
              "          const element = document.querySelector('#df-14fac085-17b7-40d2-8751-a96790a302be');\n",
              "          const dataTable =\n",
              "            await google.colab.kernel.invokeFunction('convertToInteractive',\n",
              "                                                     [key], {});\n",
              "          if (!dataTable) return;\n",
              "\n",
              "          const docLinkHtml = 'Like what you see? Visit the ' +\n",
              "            '<a target=\"_blank\" href=https://colab.research.google.com/notebooks/data_table.ipynb>data table notebook</a>'\n",
              "            + ' to learn more about interactive tables.';\n",
              "          element.innerHTML = '';\n",
              "          dataTable['output_type'] = 'display_data';\n",
              "          await google.colab.output.renderOutput(dataTable, element);\n",
              "          const docLink = document.createElement('div');\n",
              "          docLink.innerHTML = docLinkHtml;\n",
              "          element.appendChild(docLink);\n",
              "        }\n",
              "      </script>\n",
              "    </div>\n",
              "  </div>\n",
              "  "
            ]
          },
          "metadata": {},
          "execution_count": 509
        }
      ]
    },
    {
      "cell_type": "markdown",
      "source": [
        "# Implementing different models and building a pipeline"
      ],
      "metadata": {
        "id": "n1Advu1ag7oP"
      }
    },
    {
      "cell_type": "markdown",
      "source": [
        "#### Importing necessary libraries"
      ],
      "metadata": {
        "id": "P6uTwzf1g-kn"
      }
    },
    {
      "cell_type": "code",
      "metadata": {
        "id": "Z_3Vz4iq9hij"
      },
      "source": [
        "from sklearn.compose import ColumnTransformer\n",
        "from sklearn.pipeline import Pipeline\n",
        "from sklearn.preprocessing import OneHotEncoder\n",
        "from sklearn.metrics import r2_score,mean_absolute_error, accuracy_score\n",
        "from sklearn.linear_model import LinearRegression,Ridge,Lasso\n",
        "from sklearn.neighbors import KNeighborsRegressor\n",
        "from sklearn.tree import DecisionTreeRegressor\n",
        "from sklearn.ensemble import RandomForestRegressor\n",
        "from sklearn.svm import SVR\n",
        "from xgboost import XGBRegressor\n",
        "from lightgbm import LGBMRegressor\n",
        "from sklearn.model_selection import RandomizedSearchCV"
      ],
      "execution_count": 510,
      "outputs": []
    },
    {
      "cell_type": "markdown",
      "source": [
        "## Model 1 : LinearRegression"
      ],
      "metadata": {
        "id": "1y_1-7b8hDEW"
      }
    },
    {
      "cell_type": "markdown",
      "source": [
        "### Analysing 1st Model"
      ],
      "metadata": {
        "id": "V-NfAO8WhJRG"
      }
    },
    {
      "cell_type": "code",
      "metadata": {
        "colab": {
          "base_uri": "https://localhost:8080/"
        },
        "id": "t_UJgJNr-DHo",
        "outputId": "64401a30-35ae-4306-c69c-559c4bde5e28"
      },
      "source": [
        "step1= ColumnTransformer(transformers=[('col_tnf',OneHotEncoder(sparse=False,drop='first'),[])],remainder='passthrough')\n",
        "step2=LinearRegression()\n",
        "\n",
        "pipe = Pipeline([\n",
        "    ('step1',step1),\n",
        "    ('step2',step2)\n",
        "])\n",
        "\n",
        "pipe.fit(X_train,Y_train)\n",
        "\n",
        "y_pred = pipe.predict(X_test)\n",
        "\n",
        "print('R2 score :', r2_score(Y_test,y_pred))"
      ],
      "execution_count": 511,
      "outputs": [
        {
          "output_type": "stream",
          "name": "stdout",
          "text": [
            "R2 score : 0.9595479455040584\n"
          ]
        }
      ]
    },
    {
      "cell_type": "markdown",
      "source": [
        "## Model 2 : KNeighborsRegressor"
      ],
      "metadata": {
        "id": "2HZrSLIQhQA_"
      }
    },
    {
      "cell_type": "markdown",
      "source": [
        "#### Implementing RandomizedSearchCV to identify the best parameters"
      ],
      "metadata": {
        "id": "Mqc0ebnrhWuP"
      }
    },
    {
      "cell_type": "code",
      "source": [
        "# gridParams = {\n",
        "#     'n_neighbors': range(2,10),\n",
        "#     'weights': ['uniform', 'distance'],\n",
        "#     'leaf_size' : range(20,50),\n",
        "#     'p' : range(1,10),\n",
        "#     }\n",
        "\n",
        "# step1 = ColumnTransformer(transformers=[\n",
        "#     ('col_tnf',OneHotEncoder(sparse=False,drop='first'),[])\n",
        "# ],remainder='passthrough')\n",
        "# step2 = RandomizedSearchCV(KNeighborsRegressor(),gridParams,verbose=1,cv=5,n_jobs = -1,n_iter=100)\n",
        "\n",
        "# pipe = Pipeline([\n",
        "#     ('step1',step1),\n",
        "#     ('step2',step2)\n",
        "# ])\n",
        "\n",
        "# pipe.fit(X_train,Y_train)"
      ],
      "metadata": {
        "id": "xmP3oUkbKFpU"
      },
      "execution_count": 512,
      "outputs": []
    },
    {
      "cell_type": "markdown",
      "source": [
        "#### Printing the best parameters"
      ],
      "metadata": {
        "id": "vBhm007QhYdK"
      }
    },
    {
      "cell_type": "code",
      "source": [
        "# print(step2.best_params_)\n",
        "# (n_neighbors=12, weights = 'distance', p=2, leaf_size = 36)"
      ],
      "metadata": {
        "id": "tlum0QELKgBQ"
      },
      "execution_count": 513,
      "outputs": []
    },
    {
      "cell_type": "markdown",
      "source": [
        "### Analysing 2nd Model"
      ],
      "metadata": {
        "id": "HfhT-OnOhcuW"
      }
    },
    {
      "cell_type": "code",
      "metadata": {
        "colab": {
          "base_uri": "https://localhost:8080/"
        },
        "id": "afMACozA_b-8",
        "outputId": "6512fac1-650e-452b-8f61-bc19314e63cc"
      },
      "source": [
        "#using_KNN\n",
        "\n",
        "step1 = ColumnTransformer(transformers=[\n",
        "    ('col_tnf',OneHotEncoder(sparse=False,drop='first'),[])\n",
        "],remainder='passthrough')\n",
        "\n",
        "step2 = KNeighborsRegressor(n_neighbors=12, weights = 'distance', p=2, leaf_size = 36)\n",
        "\n",
        "pipe = Pipeline([\n",
        "    ('step1',step1),\n",
        "    ('step2',step2)\n",
        "])\n",
        "\n",
        "pipe.fit(X_train,Y_train)\n",
        "\n",
        "y_pred = pipe.predict(X_test)\n",
        "\n",
        "print('R2 score',r2_score(Y_test,y_pred))"
      ],
      "execution_count": 514,
      "outputs": [
        {
          "output_type": "stream",
          "name": "stdout",
          "text": [
            "R2 score 0.982804030893062\n"
          ]
        }
      ]
    },
    {
      "cell_type": "markdown",
      "source": [
        "## Model 3 : RandomForestRegressor"
      ],
      "metadata": {
        "id": "N8jhdmrwhhrQ"
      }
    },
    {
      "cell_type": "markdown",
      "source": [
        "#### Implementing RandomizedSearchCV to identify the best parameters"
      ],
      "metadata": {
        "id": "G12ip1Y4hnF9"
      }
    },
    {
      "cell_type": "code",
      "source": [
        "# gridParams = {\n",
        "#     'n_estimators': range(90,400),\n",
        "#     'criterion': ['squared_error', 'absolute_error', 'poisson'],\n",
        "#     'max_depth' : range(3,16),\n",
        "#     'min_samples_split' : range(2,10),\n",
        "#     'min_samples_leaf' : range(2,10),\n",
        "#     'max_features' : ['auto', 'sqrt', 'log2']\n",
        "#     }\n",
        "\n",
        "# step1 = ColumnTransformer(transformers=[\n",
        "#     ('col_tnf',OneHotEncoder(sparse=False,drop='first'),[])\n",
        "# ],remainder='passthrough')\n",
        "# step2 = RandomizedSearchCV(RandomForestRegressor(random_state=0),gridParams,verbose=1,cv=5,n_jobs = -1,n_iter=100)\n",
        "\n",
        "# pipe = Pipeline([\n",
        "#     ('step1',step1),\n",
        "#     ('step2',step2)\n",
        "# ])\n",
        "\n",
        "# pipe.fit(X_train,Y_train)"
      ],
      "metadata": {
        "id": "FUNspW8CL1DP"
      },
      "execution_count": 515,
      "outputs": []
    },
    {
      "cell_type": "markdown",
      "source": [
        "#### Printing the best parameters"
      ],
      "metadata": {
        "id": "ixh35ay7hpxJ"
      }
    },
    {
      "cell_type": "code",
      "source": [
        "# print(step2.best_params_)\n",
        "# (n_estimators=227,max_features=0.3,max_depth=15, criterion = 'absolute_error',min_samples_split = 2, min_samples_leaf = 3)"
      ],
      "metadata": {
        "id": "tOQb_lLMN30e"
      },
      "execution_count": 516,
      "outputs": []
    },
    {
      "cell_type": "markdown",
      "source": [
        "### Analysing 3rd Model"
      ],
      "metadata": {
        "id": "TLu4ZooehuJ-"
      }
    },
    {
      "cell_type": "code",
      "metadata": {
        "colab": {
          "base_uri": "https://localhost:8080/"
        },
        "id": "ElQWhaQ__10x",
        "outputId": "4bf6544a-437a-4f9f-971e-1bb7b7f313fa"
      },
      "source": [
        "#Random forest approach\n",
        "step1 = ColumnTransformer(transformers=[\n",
        "    ('col_tnf',OneHotEncoder(sparse=False,drop='first'),[])\n",
        "],remainder='passthrough')\n",
        "\n",
        "step2 = RandomForestRegressor(n_estimators=227,random_state=0,max_features=0.3,max_depth=15, criterion = 'absolute_error',\n",
        "                              min_samples_split = 2, min_samples_leaf = 3)\n",
        "\n",
        "pipe = Pipeline([\n",
        "    ('step1',step1),\n",
        "    ('step2',step2)\n",
        "])\n",
        "\n",
        "pipe.fit(X_train,Y_train)\n",
        "\n",
        "y_pred = pipe.predict(X_test)\n",
        "\n",
        "print('R2 score :',r2_score(Y_test,y_pred))"
      ],
      "execution_count": 517,
      "outputs": [
        {
          "output_type": "stream",
          "name": "stdout",
          "text": [
            "R2 score : 0.981511118417228\n"
          ]
        }
      ]
    },
    {
      "cell_type": "markdown",
      "source": [
        "## Model 4 : DecisionTreeRegressor"
      ],
      "metadata": {
        "id": "RahBSozsh_PA"
      }
    },
    {
      "cell_type": "markdown",
      "source": [
        "#### Implementing RandomizedSearchCV to identify the best parameters"
      ],
      "metadata": {
        "id": "rFLGhW06iN5D"
      }
    },
    {
      "cell_type": "code",
      "source": [
        "# gridParams = {\n",
        "#     'splitter': ['best', 'random'],\n",
        "#     'criterion': ['squared_error', 'friedman_mse', 'absolute_error', 'poisson'],\n",
        "#     'max_depth' : range(3,16),\n",
        "#     'min_samples_split' : range(2,10),\n",
        "#     'min_samples_leaf' : range(2,10),\n",
        "#     'max_features' : ['auto', 'sqrt', 'log2']\n",
        "#     }\n",
        "\n",
        "# step1 = ColumnTransformer(transformers=[\n",
        "#     ('col_tnf',OneHotEncoder(sparse=False,drop='first'),[])\n",
        "# ],remainder='passthrough')\n",
        "# step2 = RandomizedSearchCV(DecisionTreeRegressor(random_state=0),gridParams,verbose=1,cv=5,n_jobs = -1,n_iter=100)\n",
        "\n",
        "# pipe = Pipeline([\n",
        "#     ('step1',step1),\n",
        "#     ('step2',step2)\n",
        "# ])\n",
        "\n",
        "# pipe.fit(X_train,Y_train)"
      ],
      "metadata": {
        "id": "Qia2QmgNNTg6"
      },
      "execution_count": 518,
      "outputs": []
    },
    {
      "cell_type": "markdown",
      "source": [
        "#### Printing the best parameters"
      ],
      "metadata": {
        "id": "pPopyt1hiS4r"
      }
    },
    {
      "cell_type": "code",
      "source": [
        "# print(step2.best_params_)\n",
        "# (min_samples_split = 5, max_features = 'log2', criterion = 'friedman_mse', splitter = 'random' , min_samples_leaf = 2, max_depth = 14)"
      ],
      "metadata": {
        "id": "mPem5DLZN7LM"
      },
      "execution_count": 519,
      "outputs": []
    },
    {
      "cell_type": "markdown",
      "source": [
        "### Analysing 4th Model"
      ],
      "metadata": {
        "id": "cjJFKC5yiWpd"
      }
    },
    {
      "cell_type": "code",
      "source": [
        "step1 = ColumnTransformer(transformers=[\n",
        "    ('col_tnf',OneHotEncoder(sparse=False,drop='first'),[])\n",
        "],remainder='passthrough')\n",
        "\n",
        "step2 = DecisionTreeRegressor(min_samples_split = 5, max_features = 'log2', criterion = 'friedman_mse', splitter = 'random' , \n",
        "                              min_samples_leaf = 2, max_depth = 14, random_state = 0)\n",
        "pipe = Pipeline([\n",
        "    ('step1',step1),\n",
        "    ('step2',step2)\n",
        "])\n",
        "\n",
        "pipe.fit(X_train,Y_train)\n",
        "\n",
        "y_pred = pipe.predict(X_test)\n",
        "\n",
        "print('R2 score :',r2_score(Y_test,y_pred))"
      ],
      "metadata": {
        "colab": {
          "base_uri": "https://localhost:8080/"
        },
        "id": "WzFdmhhIODT7",
        "outputId": "699299f7-e2b1-4bfb-c51f-b7e2184ad3bd"
      },
      "execution_count": 520,
      "outputs": [
        {
          "output_type": "stream",
          "name": "stdout",
          "text": [
            "R2 score : 0.980426628891348\n"
          ]
        }
      ]
    },
    {
      "cell_type": "markdown",
      "source": [
        "## Model 5 : XGBRegressor"
      ],
      "metadata": {
        "id": "uOujkrdJids4"
      }
    },
    {
      "cell_type": "markdown",
      "source": [
        "#### Implementing RandomizedSearchCV to identify the best parameters"
      ],
      "metadata": {
        "id": "soFFj03Sijl-"
      }
    },
    {
      "cell_type": "code",
      "source": [
        "# from sklearn.model_selection import RandomizedSearchCV\n",
        "# gridParams = {\n",
        "#     'n_estimators' : range(1,200),\n",
        "#     'max_depth' : range(3,16)\n",
        "# }\n",
        "\n",
        "# step1 = ColumnTransformer(transformers=[\n",
        "#     ('col_tnf',OneHotEncoder(sparse=False,drop='first'),[])\n",
        "# ],remainder='passthrough')\n",
        "# step2 = RandomizedSearchCV(XGBRegressor(random_state=0),gridParams,verbose=1,cv=5,n_jobs = -1,n_iter=100)\n",
        "\n",
        "# pipe = Pipeline([\n",
        "#     ('step1',step1),\n",
        "#     ('step2',step2)\n",
        "# ])\n",
        "\n",
        "# pipe.fit(X_train,Y_train)"
      ],
      "metadata": {
        "id": "GaT002Z1OfHn"
      },
      "execution_count": 521,
      "outputs": []
    },
    {
      "cell_type": "markdown",
      "source": [
        "#### Printing the best parameters"
      ],
      "metadata": {
        "id": "wdZzxCDrilOr"
      }
    },
    {
      "cell_type": "code",
      "source": [
        "# print(step2.best_params_)\n",
        "# (n_estimators=40,max_depth=6)"
      ],
      "metadata": {
        "id": "TVqag43IO-Zb"
      },
      "execution_count": 522,
      "outputs": []
    },
    {
      "cell_type": "markdown",
      "source": [
        "### Analysing 5th Model"
      ],
      "metadata": {
        "id": "HMcCDKkXisn5"
      }
    },
    {
      "cell_type": "code",
      "metadata": {
        "colab": {
          "base_uri": "https://localhost:8080/"
        },
        "id": "QMUO60IZAlD2",
        "outputId": "163b8110-22b8-4e9f-e365-3f080741a003"
      },
      "source": [
        "#Xg_boost\n",
        "step1 = ColumnTransformer(transformers=[\n",
        "    ('col_tnf',OneHotEncoder(sparse=False,drop='first'),[])\n",
        "],remainder='passthrough')\n",
        "\n",
        "step2 = XGBRegressor(n_estimators=40,max_depth=6, learning_rate=0.25)\n",
        "\n",
        "pipe = Pipeline([\n",
        "    ('step1',step1),\n",
        "    ('step2',step2)\n",
        "])\n",
        "\n",
        "pipe.fit(X_train,Y_train)\n",
        "\n",
        "y_pred = pipe.predict(X_test)\n",
        "\n",
        "print('R2 score :',r2_score(Y_test,y_pred))"
      ],
      "execution_count": 523,
      "outputs": [
        {
          "output_type": "stream",
          "name": "stdout",
          "text": [
            "[00:36:24] WARNING: /workspace/src/objective/regression_obj.cu:152: reg:linear is now deprecated in favor of reg:squarederror.\n",
            "R2 score : 0.9827432612848608\n"
          ]
        }
      ]
    },
    {
      "cell_type": "markdown",
      "source": [
        "## Model 6 : LGBMRegressor"
      ],
      "metadata": {
        "id": "p3WcDrB7i1p_"
      }
    },
    {
      "cell_type": "markdown",
      "source": [
        "#### Implementing RandomizedSearchCV to identify the best parameters"
      ],
      "metadata": {
        "id": "FlO3tySSi6D4"
      }
    },
    {
      "cell_type": "code",
      "source": [
        "# gridParams = {\n",
        "#     'n_estimators' : range(90,400),\n",
        "#     'learning_rate': [0.05,0.04,0.03,0.07,0.09],\n",
        "#     'num_leaves': range(30,200,5),\n",
        "#     'max_depth' : range(3,16),\n",
        "#     'colsample_bytree' : [0.1,0.2,0.3,0.4,0.5,0.6,0.7],\n",
        "#     }\n",
        "\n",
        "# step1 = ColumnTransformer(transformers=[\n",
        "#     ('col_tnf',OneHotEncoder(sparse=False,drop='first'),[])\n",
        "# ],remainder='passthrough')\n",
        "# step2 = RandomizedSearchCV(LGBMRegressor(random_state=0),gridParams,verbose=1,cv=5,n_jobs = -1,n_iter=100)\n",
        "\n",
        "# pipe = Pipeline([\n",
        "#     ('step1',step1),\n",
        "#     ('step2',step2)\n",
        "# ])\n",
        "\n",
        "# pipe.fit(X_train,Y_train)"
      ],
      "metadata": {
        "id": "Awp43KNxTvHp"
      },
      "execution_count": 524,
      "outputs": []
    },
    {
      "cell_type": "markdown",
      "source": [
        "#### Printing the best parameters"
      ],
      "metadata": {
        "id": "nYKIkDdDi70Z"
      }
    },
    {
      "cell_type": "code",
      "source": [
        "# print(step2.best_params_)\n",
        "# (num_leaves=120, max_depth = 5, n_estimators = 120, learning_rate = 0.13, colsample_bytree = 0.7)"
      ],
      "metadata": {
        "id": "sxJy7RZKUjv8"
      },
      "execution_count": 525,
      "outputs": []
    },
    {
      "cell_type": "markdown",
      "source": [
        "### Analysing 6th Model"
      ],
      "metadata": {
        "id": "PIS-HzRnjA8k"
      }
    },
    {
      "cell_type": "code",
      "source": [
        "# using_LGBMRegressor\n",
        "step1 = ColumnTransformer(transformers=[\n",
        "    ('col_tnf',OneHotEncoder(sparse=False,drop='first'),[])\n",
        "],remainder='passthrough')\n",
        "step2 = LGBMRegressor(num_leaves=120, max_depth = 5, n_estimators = 120,\n",
        "                       learning_rate = 0.13, colsample_bytree = 0.7, random_state = 0)\n",
        "\n",
        "pipe = Pipeline([\n",
        "    ('step1',step1),\n",
        "    ('step2',step2)\n",
        "])\n",
        "\n",
        "pipe.fit(X_train,Y_train)\n",
        "\n",
        "y_pred = pipe.predict(X_test)\n",
        "print('R2 score :', r2_score(Y_test,y_pred))"
      ],
      "metadata": {
        "colab": {
          "base_uri": "https://localhost:8080/"
        },
        "id": "oGGgf64XUmgR",
        "outputId": "2b419302-558b-40d3-a312-bebcb3ee3b7a"
      },
      "execution_count": 526,
      "outputs": [
        {
          "output_type": "stream",
          "name": "stdout",
          "text": [
            "R2 score : 0.9818203184051063\n"
          ]
        }
      ]
    },
    {
      "cell_type": "markdown",
      "source": [
        "## Building a pipeline of these 5 models"
      ],
      "metadata": {
        "id": "e5OdsvTNjKq8"
      }
    },
    {
      "cell_type": "markdown",
      "source": [
        "#### Adding best 5 models into the pipeline with their best parameters"
      ],
      "metadata": {
        "id": "LlUuz80BjPbs"
      }
    },
    {
      "cell_type": "code",
      "metadata": {
        "colab": {
          "base_uri": "https://localhost:8080/"
        },
        "id": "Wz9HuCFzAFzn",
        "outputId": "8784ff12-cc51-4073-e601-27afa9dc823b"
      },
      "source": [
        "from sklearn.ensemble import VotingRegressor,StackingRegressor\n",
        "\n",
        "step1 = ColumnTransformer(transformers=[\n",
        "    ('col_tnf',OneHotEncoder(sparse=False,drop='first'),[])\n",
        "],remainder='passthrough')\n",
        "\n",
        "\n",
        "knn = KNeighborsRegressor(n_neighbors=12, weights = 'distance', p=2, leaf_size = 36)\n",
        "rf = RandomForestRegressor(n_estimators=227,random_state=0,max_features=0.3,max_depth=15, criterion = 'absolute_error',\n",
        "                              min_samples_split = 2, min_samples_leaf = 3)\n",
        "dt = DecisionTreeRegressor(min_samples_split = 5, max_features = 'log2', criterion = 'friedman_mse', splitter = 'random' , \n",
        "                              min_samples_leaf = 2, max_depth = 14, random_state = 0)\n",
        "xgb = XGBRegressor(n_estimators=40,max_depth=6, learning_rate=0.25)\n",
        "lgbm = LGBMRegressor(num_leaves=120, max_depth = 5, n_estimators = 120,\n",
        "                       learning_rate = 0.13, colsample_bytree = 0.7, random_state = 0)\n",
        "\n",
        "step2 = VotingRegressor([('knn', knn), ('rf', rf), ('dt', dt), ('xgb',xgb), ('lgbm',lgbm)])\n",
        "\n",
        "pipe = Pipeline([\n",
        "    ('step1',step1),\n",
        "    ('step2',step2)\n",
        "])\n",
        "\n",
        "pipe.fit(X_train,Y_train)\n",
        "\n",
        "y_pred = pipe.predict(X_test)\n",
        "\n",
        "print('R2 score :',r2_score(Y_test,y_pred))"
      ],
      "execution_count": 527,
      "outputs": [
        {
          "output_type": "stream",
          "name": "stdout",
          "text": [
            "[00:36:26] WARNING: /workspace/src/objective/regression_obj.cu:152: reg:linear is now deprecated in favor of reg:squarederror.\n",
            "R2 score : 0.9838108554888297\n"
          ]
        }
      ]
    },
    {
      "cell_type": "markdown",
      "source": [
        "## Predicting the bitcoin prices of next 10 days starting from the latest date in the dataset"
      ],
      "metadata": {
        "id": "rnm7pWKPkUra"
      }
    },
    {
      "cell_type": "markdown",
      "source": [
        "### Taking the latest 10 values from the dataset and storing the predictions"
      ],
      "metadata": {
        "id": "PDzLNOuykj9_"
      }
    },
    {
      "cell_type": "code",
      "source": [
        "X_next10days = x[:10]\n",
        "forecast=pipe.predict(X_next10days)"
      ],
      "metadata": {
        "id": "jXkzqbSDYgZg"
      },
      "execution_count": 528,
      "outputs": []
    },
    {
      "cell_type": "markdown",
      "source": [
        "### Creating a new column to add these 10 predicted values at their respective dates for a better visualization"
      ],
      "metadata": {
        "id": "DyP4fW61kxld"
      }
    },
    {
      "cell_type": "code",
      "source": [
        "from datetime import datetime, timedelta\n",
        "last_date=data.iloc[0].name\n",
        "modified_date = last_date + timedelta(days=1)\n",
        "date=pd.date_range(modified_date,periods=10,freq='D')\n",
        "df1=pd.DataFrame(forecast,columns=['Forecast'],index=date)\n",
        "data=data.append(df1)\n",
        "data.head()"
      ],
      "metadata": {
        "colab": {
          "base_uri": "https://localhost:8080/",
          "height": 206
        },
        "id": "62D1uJAEZQxj",
        "outputId": "a19a05d7-9c2d-4994-fbbd-8b298eae0dd1"
      },
      "execution_count": 529,
      "outputs": [
        {
          "output_type": "execute_result",
          "data": {
            "text/plain": [
              "               Open     High      Low    Close  AvgDayPrice  \\\n",
              "2017-07-21  2838.41  2838.41  2621.85  2667.76    2741.6075   \n",
              "2017-07-20  2269.89  2900.70  2269.89  2817.60    2564.5200   \n",
              "2017-07-19  2323.08  2397.17  2260.23  2273.43    2313.4775   \n",
              "2017-07-18  2233.52  2387.61  2164.77  2318.88    2276.1950   \n",
              "2017-07-17  1932.62  2230.49  1932.62  2228.41    2081.0350   \n",
              "\n",
              "            ClosingPriceAfter10days  Forecast  \n",
              "2017-07-21                  2875.34       NaN  \n",
              "2017-07-20                  2757.18       NaN  \n",
              "2017-07-19                  2726.45       NaN  \n",
              "2017-07-18                  2809.01       NaN  \n",
              "2017-07-17                  2671.78       NaN  "
            ],
            "text/html": [
              "\n",
              "  <div id=\"df-685d83e2-ad09-4e6b-b822-5488f014f3c7\">\n",
              "    <div class=\"colab-df-container\">\n",
              "      <div>\n",
              "<style scoped>\n",
              "    .dataframe tbody tr th:only-of-type {\n",
              "        vertical-align: middle;\n",
              "    }\n",
              "\n",
              "    .dataframe tbody tr th {\n",
              "        vertical-align: top;\n",
              "    }\n",
              "\n",
              "    .dataframe thead th {\n",
              "        text-align: right;\n",
              "    }\n",
              "</style>\n",
              "<table border=\"1\" class=\"dataframe\">\n",
              "  <thead>\n",
              "    <tr style=\"text-align: right;\">\n",
              "      <th></th>\n",
              "      <th>Open</th>\n",
              "      <th>High</th>\n",
              "      <th>Low</th>\n",
              "      <th>Close</th>\n",
              "      <th>AvgDayPrice</th>\n",
              "      <th>ClosingPriceAfter10days</th>\n",
              "      <th>Forecast</th>\n",
              "    </tr>\n",
              "  </thead>\n",
              "  <tbody>\n",
              "    <tr>\n",
              "      <th>2017-07-21</th>\n",
              "      <td>2838.41</td>\n",
              "      <td>2838.41</td>\n",
              "      <td>2621.85</td>\n",
              "      <td>2667.76</td>\n",
              "      <td>2741.6075</td>\n",
              "      <td>2875.34</td>\n",
              "      <td>NaN</td>\n",
              "    </tr>\n",
              "    <tr>\n",
              "      <th>2017-07-20</th>\n",
              "      <td>2269.89</td>\n",
              "      <td>2900.70</td>\n",
              "      <td>2269.89</td>\n",
              "      <td>2817.60</td>\n",
              "      <td>2564.5200</td>\n",
              "      <td>2757.18</td>\n",
              "      <td>NaN</td>\n",
              "    </tr>\n",
              "    <tr>\n",
              "      <th>2017-07-19</th>\n",
              "      <td>2323.08</td>\n",
              "      <td>2397.17</td>\n",
              "      <td>2260.23</td>\n",
              "      <td>2273.43</td>\n",
              "      <td>2313.4775</td>\n",
              "      <td>2726.45</td>\n",
              "      <td>NaN</td>\n",
              "    </tr>\n",
              "    <tr>\n",
              "      <th>2017-07-18</th>\n",
              "      <td>2233.52</td>\n",
              "      <td>2387.61</td>\n",
              "      <td>2164.77</td>\n",
              "      <td>2318.88</td>\n",
              "      <td>2276.1950</td>\n",
              "      <td>2809.01</td>\n",
              "      <td>NaN</td>\n",
              "    </tr>\n",
              "    <tr>\n",
              "      <th>2017-07-17</th>\n",
              "      <td>1932.62</td>\n",
              "      <td>2230.49</td>\n",
              "      <td>1932.62</td>\n",
              "      <td>2228.41</td>\n",
              "      <td>2081.0350</td>\n",
              "      <td>2671.78</td>\n",
              "      <td>NaN</td>\n",
              "    </tr>\n",
              "  </tbody>\n",
              "</table>\n",
              "</div>\n",
              "      <button class=\"colab-df-convert\" onclick=\"convertToInteractive('df-685d83e2-ad09-4e6b-b822-5488f014f3c7')\"\n",
              "              title=\"Convert this dataframe to an interactive table.\"\n",
              "              style=\"display:none;\">\n",
              "        \n",
              "  <svg xmlns=\"http://www.w3.org/2000/svg\" height=\"24px\"viewBox=\"0 0 24 24\"\n",
              "       width=\"24px\">\n",
              "    <path d=\"M0 0h24v24H0V0z\" fill=\"none\"/>\n",
              "    <path d=\"M18.56 5.44l.94 2.06.94-2.06 2.06-.94-2.06-.94-.94-2.06-.94 2.06-2.06.94zm-11 1L8.5 8.5l.94-2.06 2.06-.94-2.06-.94L8.5 2.5l-.94 2.06-2.06.94zm10 10l.94 2.06.94-2.06 2.06-.94-2.06-.94-.94-2.06-.94 2.06-2.06.94z\"/><path d=\"M17.41 7.96l-1.37-1.37c-.4-.4-.92-.59-1.43-.59-.52 0-1.04.2-1.43.59L10.3 9.45l-7.72 7.72c-.78.78-.78 2.05 0 2.83L4 21.41c.39.39.9.59 1.41.59.51 0 1.02-.2 1.41-.59l7.78-7.78 2.81-2.81c.8-.78.8-2.07 0-2.86zM5.41 20L4 18.59l7.72-7.72 1.47 1.35L5.41 20z\"/>\n",
              "  </svg>\n",
              "      </button>\n",
              "      \n",
              "  <style>\n",
              "    .colab-df-container {\n",
              "      display:flex;\n",
              "      flex-wrap:wrap;\n",
              "      gap: 12px;\n",
              "    }\n",
              "\n",
              "    .colab-df-convert {\n",
              "      background-color: #E8F0FE;\n",
              "      border: none;\n",
              "      border-radius: 50%;\n",
              "      cursor: pointer;\n",
              "      display: none;\n",
              "      fill: #1967D2;\n",
              "      height: 32px;\n",
              "      padding: 0 0 0 0;\n",
              "      width: 32px;\n",
              "    }\n",
              "\n",
              "    .colab-df-convert:hover {\n",
              "      background-color: #E2EBFA;\n",
              "      box-shadow: 0px 1px 2px rgba(60, 64, 67, 0.3), 0px 1px 3px 1px rgba(60, 64, 67, 0.15);\n",
              "      fill: #174EA6;\n",
              "    }\n",
              "\n",
              "    [theme=dark] .colab-df-convert {\n",
              "      background-color: #3B4455;\n",
              "      fill: #D2E3FC;\n",
              "    }\n",
              "\n",
              "    [theme=dark] .colab-df-convert:hover {\n",
              "      background-color: #434B5C;\n",
              "      box-shadow: 0px 1px 3px 1px rgba(0, 0, 0, 0.15);\n",
              "      filter: drop-shadow(0px 1px 2px rgba(0, 0, 0, 0.3));\n",
              "      fill: #FFFFFF;\n",
              "    }\n",
              "  </style>\n",
              "\n",
              "      <script>\n",
              "        const buttonEl =\n",
              "          document.querySelector('#df-685d83e2-ad09-4e6b-b822-5488f014f3c7 button.colab-df-convert');\n",
              "        buttonEl.style.display =\n",
              "          google.colab.kernel.accessAllowed ? 'block' : 'none';\n",
              "\n",
              "        async function convertToInteractive(key) {\n",
              "          const element = document.querySelector('#df-685d83e2-ad09-4e6b-b822-5488f014f3c7');\n",
              "          const dataTable =\n",
              "            await google.colab.kernel.invokeFunction('convertToInteractive',\n",
              "                                                     [key], {});\n",
              "          if (!dataTable) return;\n",
              "\n",
              "          const docLinkHtml = 'Like what you see? Visit the ' +\n",
              "            '<a target=\"_blank\" href=https://colab.research.google.com/notebooks/data_table.ipynb>data table notebook</a>'\n",
              "            + ' to learn more about interactive tables.';\n",
              "          element.innerHTML = '';\n",
              "          dataTable['output_type'] = 'display_data';\n",
              "          await google.colab.output.renderOutput(dataTable, element);\n",
              "          const docLink = document.createElement('div');\n",
              "          docLink.innerHTML = docLinkHtml;\n",
              "          element.appendChild(docLink);\n",
              "        }\n",
              "      </script>\n",
              "    </div>\n",
              "  </div>\n",
              "  "
            ]
          },
          "metadata": {},
          "execution_count": 529
        }
      ]
    },
    {
      "cell_type": "code",
      "source": [
        "data.tail()"
      ],
      "metadata": {
        "colab": {
          "base_uri": "https://localhost:8080/",
          "height": 206
        },
        "id": "s4Ew6eEAa_o8",
        "outputId": "f525e7bb-bb09-4422-9162-815cd8af6824"
      },
      "execution_count": 530,
      "outputs": [
        {
          "output_type": "execute_result",
          "data": {
            "text/plain": [
              "            Open  High  Low  Close  AvgDayPrice  ClosingPriceAfter10days  \\\n",
              "2017-07-27   NaN   NaN  NaN    NaN          NaN                      NaN   \n",
              "2017-07-28   NaN   NaN  NaN    NaN          NaN                      NaN   \n",
              "2017-07-29   NaN   NaN  NaN    NaN          NaN                      NaN   \n",
              "2017-07-30   NaN   NaN  NaN    NaN          NaN                      NaN   \n",
              "2017-07-31   NaN   NaN  NaN    NaN          NaN                      NaN   \n",
              "\n",
              "               Forecast  \n",
              "2017-07-27  2404.147121  \n",
              "2017-07-28  2634.427249  \n",
              "2017-07-29  2751.423892  \n",
              "2017-07-30  2713.025061  \n",
              "2017-07-31  2779.859337  "
            ],
            "text/html": [
              "\n",
              "  <div id=\"df-d3a82c8c-3b2a-4920-b894-ab120666ae8d\">\n",
              "    <div class=\"colab-df-container\">\n",
              "      <div>\n",
              "<style scoped>\n",
              "    .dataframe tbody tr th:only-of-type {\n",
              "        vertical-align: middle;\n",
              "    }\n",
              "\n",
              "    .dataframe tbody tr th {\n",
              "        vertical-align: top;\n",
              "    }\n",
              "\n",
              "    .dataframe thead th {\n",
              "        text-align: right;\n",
              "    }\n",
              "</style>\n",
              "<table border=\"1\" class=\"dataframe\">\n",
              "  <thead>\n",
              "    <tr style=\"text-align: right;\">\n",
              "      <th></th>\n",
              "      <th>Open</th>\n",
              "      <th>High</th>\n",
              "      <th>Low</th>\n",
              "      <th>Close</th>\n",
              "      <th>AvgDayPrice</th>\n",
              "      <th>ClosingPriceAfter10days</th>\n",
              "      <th>Forecast</th>\n",
              "    </tr>\n",
              "  </thead>\n",
              "  <tbody>\n",
              "    <tr>\n",
              "      <th>2017-07-27</th>\n",
              "      <td>NaN</td>\n",
              "      <td>NaN</td>\n",
              "      <td>NaN</td>\n",
              "      <td>NaN</td>\n",
              "      <td>NaN</td>\n",
              "      <td>NaN</td>\n",
              "      <td>2404.147121</td>\n",
              "    </tr>\n",
              "    <tr>\n",
              "      <th>2017-07-28</th>\n",
              "      <td>NaN</td>\n",
              "      <td>NaN</td>\n",
              "      <td>NaN</td>\n",
              "      <td>NaN</td>\n",
              "      <td>NaN</td>\n",
              "      <td>NaN</td>\n",
              "      <td>2634.427249</td>\n",
              "    </tr>\n",
              "    <tr>\n",
              "      <th>2017-07-29</th>\n",
              "      <td>NaN</td>\n",
              "      <td>NaN</td>\n",
              "      <td>NaN</td>\n",
              "      <td>NaN</td>\n",
              "      <td>NaN</td>\n",
              "      <td>NaN</td>\n",
              "      <td>2751.423892</td>\n",
              "    </tr>\n",
              "    <tr>\n",
              "      <th>2017-07-30</th>\n",
              "      <td>NaN</td>\n",
              "      <td>NaN</td>\n",
              "      <td>NaN</td>\n",
              "      <td>NaN</td>\n",
              "      <td>NaN</td>\n",
              "      <td>NaN</td>\n",
              "      <td>2713.025061</td>\n",
              "    </tr>\n",
              "    <tr>\n",
              "      <th>2017-07-31</th>\n",
              "      <td>NaN</td>\n",
              "      <td>NaN</td>\n",
              "      <td>NaN</td>\n",
              "      <td>NaN</td>\n",
              "      <td>NaN</td>\n",
              "      <td>NaN</td>\n",
              "      <td>2779.859337</td>\n",
              "    </tr>\n",
              "  </tbody>\n",
              "</table>\n",
              "</div>\n",
              "      <button class=\"colab-df-convert\" onclick=\"convertToInteractive('df-d3a82c8c-3b2a-4920-b894-ab120666ae8d')\"\n",
              "              title=\"Convert this dataframe to an interactive table.\"\n",
              "              style=\"display:none;\">\n",
              "        \n",
              "  <svg xmlns=\"http://www.w3.org/2000/svg\" height=\"24px\"viewBox=\"0 0 24 24\"\n",
              "       width=\"24px\">\n",
              "    <path d=\"M0 0h24v24H0V0z\" fill=\"none\"/>\n",
              "    <path d=\"M18.56 5.44l.94 2.06.94-2.06 2.06-.94-2.06-.94-.94-2.06-.94 2.06-2.06.94zm-11 1L8.5 8.5l.94-2.06 2.06-.94-2.06-.94L8.5 2.5l-.94 2.06-2.06.94zm10 10l.94 2.06.94-2.06 2.06-.94-2.06-.94-.94-2.06-.94 2.06-2.06.94z\"/><path d=\"M17.41 7.96l-1.37-1.37c-.4-.4-.92-.59-1.43-.59-.52 0-1.04.2-1.43.59L10.3 9.45l-7.72 7.72c-.78.78-.78 2.05 0 2.83L4 21.41c.39.39.9.59 1.41.59.51 0 1.02-.2 1.41-.59l7.78-7.78 2.81-2.81c.8-.78.8-2.07 0-2.86zM5.41 20L4 18.59l7.72-7.72 1.47 1.35L5.41 20z\"/>\n",
              "  </svg>\n",
              "      </button>\n",
              "      \n",
              "  <style>\n",
              "    .colab-df-container {\n",
              "      display:flex;\n",
              "      flex-wrap:wrap;\n",
              "      gap: 12px;\n",
              "    }\n",
              "\n",
              "    .colab-df-convert {\n",
              "      background-color: #E8F0FE;\n",
              "      border: none;\n",
              "      border-radius: 50%;\n",
              "      cursor: pointer;\n",
              "      display: none;\n",
              "      fill: #1967D2;\n",
              "      height: 32px;\n",
              "      padding: 0 0 0 0;\n",
              "      width: 32px;\n",
              "    }\n",
              "\n",
              "    .colab-df-convert:hover {\n",
              "      background-color: #E2EBFA;\n",
              "      box-shadow: 0px 1px 2px rgba(60, 64, 67, 0.3), 0px 1px 3px 1px rgba(60, 64, 67, 0.15);\n",
              "      fill: #174EA6;\n",
              "    }\n",
              "\n",
              "    [theme=dark] .colab-df-convert {\n",
              "      background-color: #3B4455;\n",
              "      fill: #D2E3FC;\n",
              "    }\n",
              "\n",
              "    [theme=dark] .colab-df-convert:hover {\n",
              "      background-color: #434B5C;\n",
              "      box-shadow: 0px 1px 3px 1px rgba(0, 0, 0, 0.15);\n",
              "      filter: drop-shadow(0px 1px 2px rgba(0, 0, 0, 0.3));\n",
              "      fill: #FFFFFF;\n",
              "    }\n",
              "  </style>\n",
              "\n",
              "      <script>\n",
              "        const buttonEl =\n",
              "          document.querySelector('#df-d3a82c8c-3b2a-4920-b894-ab120666ae8d button.colab-df-convert');\n",
              "        buttonEl.style.display =\n",
              "          google.colab.kernel.accessAllowed ? 'block' : 'none';\n",
              "\n",
              "        async function convertToInteractive(key) {\n",
              "          const element = document.querySelector('#df-d3a82c8c-3b2a-4920-b894-ab120666ae8d');\n",
              "          const dataTable =\n",
              "            await google.colab.kernel.invokeFunction('convertToInteractive',\n",
              "                                                     [key], {});\n",
              "          if (!dataTable) return;\n",
              "\n",
              "          const docLinkHtml = 'Like what you see? Visit the ' +\n",
              "            '<a target=\"_blank\" href=https://colab.research.google.com/notebooks/data_table.ipynb>data table notebook</a>'\n",
              "            + ' to learn more about interactive tables.';\n",
              "          element.innerHTML = '';\n",
              "          dataTable['output_type'] = 'display_data';\n",
              "          await google.colab.output.renderOutput(dataTable, element);\n",
              "          const docLink = document.createElement('div');\n",
              "          docLink.innerHTML = docLinkHtml;\n",
              "          element.appendChild(docLink);\n",
              "        }\n",
              "      </script>\n",
              "    </div>\n",
              "  </div>\n",
              "  "
            ]
          },
          "metadata": {},
          "execution_count": 530
        }
      ]
    },
    {
      "cell_type": "markdown",
      "source": [
        "### Visualizing the price of bitcoin along with the 10 predicted prices"
      ],
      "metadata": {
        "id": "xHVoejSkk82W"
      }
    },
    {
      "cell_type": "code",
      "source": [
        "data['Close'].plot(figsize=(12,6),label='Close')\n",
        "data['Forecast'].plot(label='Forecast')\n",
        "plt.legend()"
      ],
      "metadata": {
        "colab": {
          "base_uri": "https://localhost:8080/",
          "height": 383
        },
        "id": "PHmEDwHhbFDy",
        "outputId": "45d7b15d-a43b-447f-a1d3-3a11dddd5111"
      },
      "execution_count": 531,
      "outputs": [
        {
          "output_type": "execute_result",
          "data": {
            "text/plain": [
              "<matplotlib.legend.Legend at 0x7fbe26a3d3d0>"
            ]
          },
          "metadata": {},
          "execution_count": 531
        },
        {
          "output_type": "display_data",
          "data": {
            "text/plain": [
              "<Figure size 864x432 with 1 Axes>"
            ],
            "image/png": "[encoded data removed]"
          },
          "metadata": {}
        }
      ]
    },
    {
      "cell_type": "markdown",
      "source": [
        "## Opening the pickle files"
      ],
      "metadata": {
        "id": "EUhkcGK8lToM"
      }
    },
    {
      "cell_type": "code",
      "source": [
        "import pickle\n",
        "pickle.dump(data,open('data.pkl','wb'))\n",
        "pickle.dump(pipe,open('pipe.pkl','wb'))"
      ],
      "metadata": {
        "id": "bIbg4OyGbV3Y"
      },
      "execution_count": 532,
      "outputs": []
    },
    {
      "cell_type": "markdown",
      "source": [
        "# Predicting the bitcoin price after 10 days from the given feature values of today"
      ],
      "metadata": {
        "id": "W5kobWS7lc4z"
      }
    },
    {
      "cell_type": "code",
      "source": [
        "# you have to make a list, containing all the feature values at their respective respective indexes\n",
        "# add that list in model.predict\n",
        "# run this block\n",
        "# output will be the predicted price after 10 days\n",
        "\n",
        "''' list format according to features ['Open', 'High', 'Low', 'Close', 'AvgDayValue (average of other 4 values)'] '''\n",
        "import joblib\n",
        "model = joblib.load('/content/pipe.pkl')\n",
        "result = model.predict([[2838.41,2838.41, 2621.85, 2667.76, 2741.6075]])[0]\n",
        "print(\"\\n\", \"Bitcoin Price After 10 days is :\", result)"
      ],
      "metadata": {
        "colab": {
          "base_uri": "https://localhost:8080/"
        },
        "id": "-X3Q-WgRbpvG",
        "outputId": "fbd1b107-6d7e-4333-d7af-5847ea8747eb"
      },
      "execution_count": 533,
      "outputs": [
        {
          "output_type": "stream",
          "name": "stdout",
          "text": [
            "[00:36:27] WARNING: /workspace/src/objective/regression_obj.cu:152: reg:linear is now deprecated in favor of reg:squarederror.\n",
            "\n",
            " Bitcoin Price After 10 days is : 2727.059894223558\n"
          ]
        }
      ]
    }
  ]
}